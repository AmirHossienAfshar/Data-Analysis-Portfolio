{
 "cells": [
  {
   "cell_type": "markdown",
   "id": "ac040768-7ffb-4b57-99e1-859e3745551e",
   "metadata": {},
   "source": [
    "# Numpy portfolio part zero"
   ]
  },
  {
   "cell_type": "markdown",
   "id": "7ca7b268-343d-4c9c-9606-12bdb9e68c09",
   "metadata": {},
   "source": [
    "note: After spending a considerable amount of time on insufficient learning, this marks my initial official attempt at learning Numpy. hoping this time I keep learning untill some reasonble resualts!\n",
    "\n",
    "### so what is numpy afterall? \n",
    "\n",
    "basically, it has alot to do with arrays. to be more precies about that, numpy (short for Numerical Python,) is a python library used primarily for working with array. very famouse in linear algebra and matrices. \n",
    "\n",
    "---\n",
    "getting started with numpy: making simple arrays:"
   ]
  },
  {
   "cell_type": "code",
   "execution_count": 1,
   "id": "02c71fcd-46bc-4609-afea-3159ab1b02b5",
   "metadata": {},
   "outputs": [],
   "source": [
    "import numpy as np"
   ]
  },
  {
   "cell_type": "code",
   "execution_count": 2,
   "id": "499fab10-2644-4854-b83c-dcfc37599ea4",
   "metadata": {},
   "outputs": [
    {
     "data": {
      "text/plain": [
       "array([0, 1, 2, 3, 4])"
      ]
     },
     "execution_count": 2,
     "metadata": {},
     "output_type": "execute_result"
    }
   ],
   "source": [
    "x = np.array([0, 1, 2, 3, 4])\n",
    "x"
   ]
  },
  {
   "cell_type": "code",
   "execution_count": 3,
   "id": "3af182e3-5159-4352-9fe6-d9dfb0e77616",
   "metadata": {},
   "outputs": [
    {
     "data": {
      "text/plain": [
       "numpy.ndarray"
      ]
     },
     "execution_count": 3,
     "metadata": {},
     "output_type": "execute_result"
    }
   ],
   "source": [
    "type(x)"
   ]
  },
  {
   "cell_type": "markdown",
   "id": "6fe4c3a3-c81b-4d06-a791-93dead2699da",
   "metadata": {},
   "source": [
    "the *ndarray* means n-dimentional array."
   ]
  },
  {
   "cell_type": "code",
   "execution_count": 5,
   "id": "3b8bdb4b-2040-4549-add8-b1a20fcc3adf",
   "metadata": {},
   "outputs": [
    {
     "data": {
      "text/plain": [
       "array([[0, 1, 2],\n",
       "       [3, 4, 5]])"
      ]
     },
     "execution_count": 5,
     "metadata": {},
     "output_type": "execute_result"
    }
   ],
   "source": [
    "y = np.array([[0, 1, 2], [3, 4, 5]])\n",
    "y"
   ]
  },
  {
   "cell_type": "markdown",
   "id": "7368cab8-7b6f-49b4-8953-3963b10bf8bb",
   "metadata": {},
   "source": [
    "the probable bettwe way to write down more-than-one dimentional arrays are like below:"
   ]
  },
  {
   "cell_type": "code",
   "execution_count": 7,
   "id": "ff72fb96-2405-4787-8fcd-25410d93fff7",
   "metadata": {},
   "outputs": [
    {
     "data": {
      "text/plain": [
       "array([[0, 1, 2],\n",
       "       [3, 4, 5],\n",
       "       [6, 7, 8]])"
      ]
     },
     "execution_count": 7,
     "metadata": {},
     "output_type": "execute_result"
    }
   ],
   "source": [
    "z = np.array([[0, 1, 2],\n",
    "              [3, 4, 5],\n",
    "              [6, 7, 8]])\n",
    "z"
   ]
  },
  {
   "cell_type": "markdown",
   "id": "c7a8d0fe-22ef-4d03-9e63-be4f286d8bde",
   "metadata": {},
   "source": [
    "as mentioned above, the type() indicates that x, y and z are n-dim arrays. how to see how many dims do they got? here is the answer:"
   ]
  },
  {
   "cell_type": "code",
   "execution_count": 8,
   "id": "e0faa976-1ca6-4bb0-9be3-5351a6df6b2e",
   "metadata": {},
   "outputs": [
    {
     "data": {
      "text/plain": [
       "2"
      ]
     },
     "execution_count": 8,
     "metadata": {},
     "output_type": "execute_result"
    }
   ],
   "source": [
    "z.ndim"
   ]
  },
  {
   "cell_type": "markdown",
   "id": "3bbbe035-4add-469b-abb8-ac546578e548",
   "metadata": {},
   "source": [
    "---\n",
    "\n",
    "#### what do you know about dimention?\n",
    "The first axis represents the rows, and the second axis represents the columns. so that is a 2 dimentional array!\n",
    "what about more-dimentional arrays? how to make those?\n",
    "the short and simple answer is to count the number of nested ([]) in an array() instance. below is a 3 dimentional array:"
   ]
  },
  {
   "cell_type": "code",
   "execution_count": 14,
   "id": "fe49f1f9-21b6-40ac-b6f5-cac8adc4c014",
   "metadata": {},
   "outputs": [
    {
     "data": {
      "text/plain": [
       "array([[[ 0,  1,  2],\n",
       "        [ 3,  4,  5],\n",
       "        [ 6,  7,  8]],\n",
       "\n",
       "       [[ 9, 10, 11],\n",
       "        [12, 13, 14],\n",
       "        [15, 16, 17]],\n",
       "\n",
       "       [[18, 19, 20],\n",
       "        [21, 22, 23],\n",
       "        [24, 25, 25]]])"
      ]
     },
     "execution_count": 14,
     "metadata": {},
     "output_type": "execute_result"
    }
   ],
   "source": [
    "x = np.array([[[0, 1, 2],\n",
    "               [3, 4, 5],\n",
    "               [6, 7, 8]],\n",
    "              \n",
    "              [[9, 10, 11],\n",
    "              [12, 13, 14],\n",
    "              [15, 16, 17]],\n",
    "              \n",
    "             [[18, 19, 20],\n",
    "              [21, 22, 23],\n",
    "              [24, 25, 25]]\n",
    "             ])\n",
    "x"
   ]
  },
  {
   "cell_type": "code",
   "execution_count": 15,
   "id": "33abfac6-6f4a-44c4-9790-36051d34a956",
   "metadata": {},
   "outputs": [
    {
     "data": {
      "text/plain": [
       "3"
      ]
     },
     "execution_count": 15,
     "metadata": {},
     "output_type": "execute_result"
    }
   ],
   "source": [
    "x.ndim"
   ]
  },
  {
   "cell_type": "markdown",
   "id": "7edb9f4b-83f3-45e0-9ef2-cdf694af0bd5",
   "metadata": {},
   "source": [
    "#### how to check how many row or column or others an array has? \n",
    "easily, with .shape."
   ]
  },
  {
   "cell_type": "code",
   "execution_count": 17,
   "id": "cdc74acb-0067-47c2-a6b2-c4e2821ba170",
   "metadata": {},
   "outputs": [
    {
     "data": {
      "text/plain": [
       "(3, 3, 3)"
      ]
     },
     "execution_count": 17,
     "metadata": {},
     "output_type": "execute_result"
    }
   ],
   "source": [
    "x.shape"
   ]
  },
  {
   "cell_type": "markdown",
   "id": "ad2e5904-4b9a-4232-ad6e-a7d687a7d3e2",
   "metadata": {},
   "source": [
    "#### how to see the total count of an array elemnts?\n",
    "easily, with .size."
   ]
  },
  {
   "cell_type": "code",
   "execution_count": 19,
   "id": "a84b9082-93db-4d83-9860-c479f0da0097",
   "metadata": {},
   "outputs": [
    {
     "data": {
      "text/plain": [
       "27"
      ]
     },
     "execution_count": 19,
     "metadata": {},
     "output_type": "execute_result"
    }
   ],
   "source": [
    "x.size"
   ]
  },
  {
   "cell_type": "markdown",
   "id": "1b45f61f-bca0-416d-9f52-c21008592ec2",
   "metadata": {},
   "source": [
    "(by the way, I just got rejected from a data sience job I applied. moving on... )\n",
    "\n",
    "---\n",
    "\n",
    "#### Fun different arrays in numpy\n",
    "just see below to feel the magic:"
   ]
  },
  {
   "cell_type": "code",
   "execution_count": 20,
   "id": "c3c48733-cff2-435f-905b-b6e202febd83",
   "metadata": {},
   "outputs": [
    {
     "data": {
      "text/plain": [
       "array([[1., 0., 0., 0., 0.],\n",
       "       [0., 1., 0., 0., 0.],\n",
       "       [0., 0., 1., 0., 0.],\n",
       "       [0., 0., 0., 1., 0.],\n",
       "       [0., 0., 0., 0., 1.]])"
      ]
     },
     "execution_count": 20,
     "metadata": {},
     "output_type": "execute_result"
    }
   ],
   "source": [
    "x = np.eye(5)\n",
    "x"
   ]
  },
  {
   "cell_type": "code",
   "execution_count": 23,
   "id": "a03f279c-1152-4bd4-bf39-790f6743ff02",
   "metadata": {},
   "outputs": [
    {
     "data": {
      "text/plain": [
       "array([[1., 1., 1., 1., 1.],\n",
       "       [1., 1., 1., 1., 1.],\n",
       "       [1., 1., 1., 1., 1.],\n",
       "       [1., 1., 1., 1., 1.],\n",
       "       [1., 1., 1., 1., 1.]])"
      ]
     },
     "execution_count": 23,
     "metadata": {},
     "output_type": "execute_result"
    }
   ],
   "source": [
    "x = np.ones((5, 5))\n",
    "x"
   ]
  },
  {
   "cell_type": "code",
   "execution_count": 24,
   "id": "ce0ba27e-3705-4971-b3be-6f59fd86befd",
   "metadata": {},
   "outputs": [
    {
     "data": {
      "text/plain": [
       "array([[0., 0., 0., 0., 0.],\n",
       "       [0., 0., 0., 0., 0.],\n",
       "       [0., 0., 0., 0., 0.],\n",
       "       [0., 0., 0., 0., 0.],\n",
       "       [0., 0., 0., 0., 0.]])"
      ]
     },
     "execution_count": 24,
     "metadata": {},
     "output_type": "execute_result"
    }
   ],
   "source": [
    "x = np.zeros((5, 5))\n",
    "x"
   ]
  },
  {
   "cell_type": "markdown",
   "id": "3ec2e676-b17a-47a8-8fa4-8ed8b52e9255",
   "metadata": {},
   "source": [
    "---\n",
    "\n",
    "#### is there a way to create those arrays faster?\n",
    "NumPy *arange()* is one of the array creation routines based on numerical ranges. It creates an instance of ndarray with evenly spaced values and returns the reference to it.\n",
    "here is the schema for its parameters:\n",
    "```python\n",
    "numpy.arange([start, ]stop, [step, ], dtype=None) -> numpy.ndarray\n",
    "```\n",
    "don't get confused. read these examples below:"
   ]
  },
  {
   "cell_type": "code",
   "execution_count": 26,
   "id": "ae13fbdd-40b9-4f52-a068-053cd9c0f259",
   "metadata": {},
   "outputs": [
    {
     "data": {
      "text/plain": [
       "array([0, 3, 6, 9])"
      ]
     },
     "execution_count": 26,
     "metadata": {},
     "output_type": "execute_result"
    }
   ],
   "source": [
    "x = np.arange(0, 10, 3)\n",
    "x"
   ]
  },
  {
   "cell_type": "markdown",
   "id": "3252f067-f008-430d-84bf-5bd52e7d2776",
   "metadata": {},
   "source": [
    "to show that better, here is what that above indicates:\n",
    "```python\n",
    "x = np.arange(start=0, end=10, step=3)\n",
    "```"
   ]
  },
  {
   "cell_type": "code",
   "execution_count": 27,
   "id": "f055369a-20dc-4d8f-9a3b-0d2dc1898ae4",
   "metadata": {},
   "outputs": [
    {
     "data": {
      "text/plain": [
       "array([0, 1, 2, 3, 4, 5, 6, 7, 8, 9])"
      ]
     },
     "execution_count": 27,
     "metadata": {},
     "output_type": "execute_result"
    }
   ],
   "source": [
    "x = np.arange(10)\n",
    "x"
   ]
  },
  {
   "cell_type": "code",
   "execution_count": 29,
   "id": "03e30cd5-7cf4-4fd8-8190-285b5a632875",
   "metadata": {},
   "outputs": [
    {
     "data": {
      "text/plain": [
       "array([10,  8,  6,  4])"
      ]
     },
     "execution_count": 29,
     "metadata": {},
     "output_type": "execute_result"
    }
   ],
   "source": [
    "x = np.arange(10, 3, -2)\n",
    "x"
   ]
  },
  {
   "cell_type": "code",
   "execution_count": 30,
   "id": "9dcd501c-bd97-4ced-ab85-c1efb154849c",
   "metadata": {},
   "outputs": [
    {
     "data": {
      "text/plain": [
       "array([1. , 1.1, 1.2, 1.3, 1.4, 1.5, 1.6, 1.7, 1.8, 1.9])"
      ]
     },
     "execution_count": 30,
     "metadata": {},
     "output_type": "execute_result"
    }
   ],
   "source": [
    "x = np.arange(1, 2, 0.1)\n",
    "x"
   ]
  },
  {
   "cell_type": "markdown",
   "id": "301a47c3-2379-4634-82b9-8987433e9253",
   "metadata": {},
   "source": [
    "---\n",
    "\n",
    "#### question: is there a way to use arange to make more-than-one dimentional arrays?\n",
    "answer: use *reshape()* to do that:"
   ]
  },
  {
   "cell_type": "code",
   "execution_count": 34,
   "id": "baa76667-1fb8-42e6-ac0c-a63c7dbdb5db",
   "metadata": {},
   "outputs": [
    {
     "data": {
      "text/plain": [
       "array([[0, 1],\n",
       "       [2, 3],\n",
       "       [4, 5]])"
      ]
     },
     "execution_count": 34,
     "metadata": {},
     "output_type": "execute_result"
    }
   ],
   "source": [
    "x = np.arange(6)\n",
    "x = x.reshape((3, 2))\n",
    "x"
   ]
  },
  {
   "cell_type": "code",
   "execution_count": 36,
   "id": "695039b5-ba20-4983-a4bd-45aaacdffc94",
   "metadata": {},
   "outputs": [
    {
     "data": {
      "text/plain": [
       "array([[ 0,  2,  4,  6],\n",
       "       [ 8, 10, 12, 14],\n",
       "       [16, 18, 20, 22],\n",
       "       [24, 26, 28, 30]])"
      ]
     },
     "execution_count": 36,
     "metadata": {},
     "output_type": "execute_result"
    }
   ],
   "source": [
    "x = np.arange(0, 32, 2).reshape((4, 4))\n",
    "x"
   ]
  },
  {
   "cell_type": "code",
   "execution_count": 38,
   "id": "3a32d6e7-d49e-47b7-8c1e-20b527a8ce42",
   "metadata": {},
   "outputs": [
    {
     "data": {
      "text/plain": [
       "array([[ 0,  2,  4,  6,  8, 10, 12, 14],\n",
       "       [16, 18, 20, 22, 24, 26, 28, 30]])"
      ]
     },
     "execution_count": 38,
     "metadata": {},
     "output_type": "execute_result"
    }
   ],
   "source": [
    "np.reshape(x, (2, 8))"
   ]
  },
  {
   "cell_type": "markdown",
   "id": "b58a08b6-7ce4-4b29-8257-d03d5d2a4861",
   "metadata": {},
   "source": [
    "---\n",
    "\n",
    "#### a quick question: what are in-place or out-of-place functions?\n",
    "consider this below:\n",
    "```python\n",
    "x.reshape((3, 2))\n",
    "```\n",
    "the one above, does not change anything on the array x. It just returns a new array, that has the desired changes. If you wish to use the new array, you could simply assign that to a new variable like below:\n",
    "```python\n",
    "reshaped_arr = x.reshape((3, 2))\n",
    "```\n",
    "so, the *reshape()* function is basically an **out-of-place** function. These functions do not modify the original array. Instead, they return a new array with the desired changes, leaving the original array untouched.\n",
    "what about **in-shape** functions? These functions do modify the original array directly, meaning that the changes are reflected in the original array itself.\n",
    "##### so, which type are the numpy functions?\n",
    "Most NumPy functions are out-of-place by default. This is consistent with NumPy's design philosophy to ensure that the original data is preserved unless explicitly requested to be modified. This behavior is beneficial when you need to maintain the integrity of the original data, especially when working in scientific computing and data analysis, where preserving the original dataset is crucial."
   ]
  },
  {
   "cell_type": "code",
   "execution_count": null,
   "id": "6c725dd5-3a39-4e07-ba52-4a3abae2bef3",
   "metadata": {},
   "outputs": [],
   "source": []
  }
 ],
 "metadata": {
  "kernelspec": {
   "display_name": "Python 3 (ipykernel)",
   "language": "python",
   "name": "python3"
  },
  "language_info": {
   "codemirror_mode": {
    "name": "ipython",
    "version": 3
   },
   "file_extension": ".py",
   "mimetype": "text/x-python",
   "name": "python",
   "nbconvert_exporter": "python",
   "pygments_lexer": "ipython3",
   "version": "3.11.2"
  }
 },
 "nbformat": 4,
 "nbformat_minor": 5
}
