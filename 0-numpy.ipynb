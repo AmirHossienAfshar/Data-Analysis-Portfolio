{
 "cells": [
  {
   "cell_type": "markdown",
   "id": "ac040768-7ffb-4b57-99e1-859e3745551e",
   "metadata": {},
   "source": [
    "# Numpy notes part zero"
   ]
  },
  {
   "cell_type": "markdown",
   "id": "7ca7b268-343d-4c9c-9606-12bdb9e68c09",
   "metadata": {},
   "source": [
    "note: After spending a considerable amount of time on insufficient learning, this marks my initial official attempt at learning Numpy. hoping this time I keep learning untill some reasonble resualts!\n",
    "\n",
    "### so what is numpy afterall? \n",
    "\n",
    "basically, it has alot to do with arrays. to be more precies about that, numpy (short for Numerical Python,) is a python library used primarily for working with array. very famouse in linear algebra and matrices. \n",
    "\n",
    "---\n",
    "getting started with numpy"
   ]
  },
  {
   "cell_type": "code",
   "execution_count": null,
   "id": "02c71fcd-46bc-4609-afea-3159ab1b02b5",
   "metadata": {},
   "outputs": [],
   "source": []
  }
 ],
 "metadata": {
  "kernelspec": {
   "display_name": "Python 3 (ipykernel)",
   "language": "python",
   "name": "python3"
  },
  "language_info": {
   "codemirror_mode": {
    "name": "ipython",
    "version": 3
   },
   "file_extension": ".py",
   "mimetype": "text/x-python",
   "name": "python",
   "nbconvert_exporter": "python",
   "pygments_lexer": "ipython3",
   "version": "3.11.2"
  }
 },
 "nbformat": 4,
 "nbformat_minor": 5
}
