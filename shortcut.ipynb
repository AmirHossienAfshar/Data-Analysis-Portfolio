{
 "cells": [
  {
   "cell_type": "markdown",
   "id": "41efb2c5-206a-46a0-b975-33662bf77adf",
   "metadata": {},
   "source": [
    "## Jupyter notebook shortcuts"
   ]
  },
  {
   "cell_type": "markdown",
   "id": "d3926eb2-c340-4725-b251-1e96344cef0b",
   "metadata": {},
   "source": [
    "#### run and slide to next cell:\n",
    "shft + enter"
   ]
  },
  {
   "cell_type": "markdown",
   "id": "d09d225e-9fcd-4bdb-9261-6ab20d3d4d3e",
   "metadata": {},
   "source": [
    "#### run the cell:\n",
    "ctrl + enter"
   ]
  },
  {
   "cell_type": "markdown",
   "id": "18cf25dc-ef79-449b-8d53-837ec2e93de2",
   "metadata": {},
   "source": [
    "#### scrolling between cells:\n",
    "using the up/down button"
   ]
  },
  {
   "cell_type": "markdown",
   "id": "58029e7c-ff2a-4619-99bd-e4ce52ae75c4",
   "metadata": {},
   "source": [
    "#### new cell:\n",
    "esc + b"
   ]
  },
  {
   "cell_type": "markdown",
   "id": "e2acdc0c-4cf4-4e75-b1b5-8b291b09bfa2",
   "metadata": {},
   "source": [
    "#### mark cell as markdown\n",
    "esc + m"
   ]
  },
  {
   "cell_type": "markdown",
   "id": "a0689164-a115-44e2-a4a8-56fbda3f29e6",
   "metadata": {},
   "source": [
    "#### mark cell as code\n",
    "esc + r"
   ]
  }
 ],
 "metadata": {
  "kernelspec": {
   "display_name": "Python 3 (ipykernel)",
   "language": "python",
   "name": "python3"
  },
  "language_info": {
   "codemirror_mode": {
    "name": "ipython",
    "version": 3
   },
   "file_extension": ".py",
   "mimetype": "text/x-python",
   "name": "python",
   "nbconvert_exporter": "python",
   "pygments_lexer": "ipython3",
   "version": "3.11.2"
  }
 },
 "nbformat": 4,
 "nbformat_minor": 5
}
