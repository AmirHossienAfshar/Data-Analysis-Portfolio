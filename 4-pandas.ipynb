{
 "cells": [
  {
   "cell_type": "markdown",
   "id": "b330c80a-30f4-4256-9ef8-88a5198220b1",
   "metadata": {},
   "source": [
    "# pandas portfolio part 4\n",
    "in this session, the *group by* will be discussed.\n",
    "Firstly let's ask a question: what does **grouping** some values together mean? the answer is not so far from mind; \n",
    "\n",
    "It means that the function collects all the rows in your DataFrame that have the same value in a particular column (or set of columns) and treats them as a single group. It does this for each unique value in that column. This is like sorting your data into different \"bins\" based on the values in that column.\n",
    "checkout here:"
   ]
  },
  {
   "cell_type": "code",
   "execution_count": 2,
   "id": "1f855e80-c973-47be-b0f6-786661d7767c",
   "metadata": {},
   "outputs": [],
   "source": [
    "import pandas as pd"
   ]
  },
  {
   "cell_type": "code",
   "execution_count": 10,
   "id": "7479451f-5734-4cce-9c52-614c1117b67e",
   "metadata": {},
   "outputs": [
    {
     "data": {
      "text/html": [
       "<div>\n",
       "<style scoped>\n",
       "    .dataframe tbody tr th:only-of-type {\n",
       "        vertical-align: middle;\n",
       "    }\n",
       "\n",
       "    .dataframe tbody tr th {\n",
       "        vertical-align: top;\n",
       "    }\n",
       "\n",
       "    .dataframe thead th {\n",
       "        text-align: right;\n",
       "    }\n",
       "</style>\n",
       "<table border=\"1\" class=\"dataframe\">\n",
       "  <thead>\n",
       "    <tr style=\"text-align: right;\">\n",
       "      <th></th>\n",
       "      <th>Product</th>\n",
       "      <th>Region</th>\n",
       "      <th>Sales</th>\n",
       "      <th>Discount</th>\n",
       "    </tr>\n",
       "  </thead>\n",
       "  <tbody>\n",
       "    <tr>\n",
       "      <th>0</th>\n",
       "      <td>Apple</td>\n",
       "      <td>North</td>\n",
       "      <td>200</td>\n",
       "      <td>10</td>\n",
       "    </tr>\n",
       "    <tr>\n",
       "      <th>1</th>\n",
       "      <td>Apple</td>\n",
       "      <td>South</td>\n",
       "      <td>150</td>\n",
       "      <td>15</td>\n",
       "    </tr>\n",
       "    <tr>\n",
       "      <th>2</th>\n",
       "      <td>Banana</td>\n",
       "      <td>North</td>\n",
       "      <td>100</td>\n",
       "      <td>5</td>\n",
       "    </tr>\n",
       "    <tr>\n",
       "      <th>3</th>\n",
       "      <td>Banana</td>\n",
       "      <td>South</td>\n",
       "      <td>120</td>\n",
       "      <td>10</td>\n",
       "    </tr>\n",
       "    <tr>\n",
       "      <th>4</th>\n",
       "      <td>Banana</td>\n",
       "      <td>East</td>\n",
       "      <td>130</td>\n",
       "      <td>5</td>\n",
       "    </tr>\n",
       "    <tr>\n",
       "      <th>5</th>\n",
       "      <td>Cherry</td>\n",
       "      <td>North</td>\n",
       "      <td>180</td>\n",
       "      <td>20</td>\n",
       "    </tr>\n",
       "    <tr>\n",
       "      <th>6</th>\n",
       "      <td>Cherry</td>\n",
       "      <td>South</td>\n",
       "      <td>170</td>\n",
       "      <td>15</td>\n",
       "    </tr>\n",
       "    <tr>\n",
       "      <th>7</th>\n",
       "      <td>Cherry</td>\n",
       "      <td>East</td>\n",
       "      <td>160</td>\n",
       "      <td>10</td>\n",
       "    </tr>\n",
       "    <tr>\n",
       "      <th>8</th>\n",
       "      <td>Cherry</td>\n",
       "      <td>West</td>\n",
       "      <td>190</td>\n",
       "      <td>25</td>\n",
       "    </tr>\n",
       "    <tr>\n",
       "      <th>9</th>\n",
       "      <td>Banana</td>\n",
       "      <td>North</td>\n",
       "      <td>110</td>\n",
       "      <td>0</td>\n",
       "    </tr>\n",
       "    <tr>\n",
       "      <th>10</th>\n",
       "      <td>Apple</td>\n",
       "      <td>West</td>\n",
       "      <td>160</td>\n",
       "      <td>10</td>\n",
       "    </tr>\n",
       "    <tr>\n",
       "      <th>11</th>\n",
       "      <td>Cherry</td>\n",
       "      <td>East</td>\n",
       "      <td>150</td>\n",
       "      <td>20</td>\n",
       "    </tr>\n",
       "  </tbody>\n",
       "</table>\n",
       "</div>"
      ],
      "text/plain": [
       "   Product Region  Sales  Discount\n",
       "0    Apple  North    200        10\n",
       "1    Apple  South    150        15\n",
       "2   Banana  North    100         5\n",
       "3   Banana  South    120        10\n",
       "4   Banana   East    130         5\n",
       "5   Cherry  North    180        20\n",
       "6   Cherry  South    170        15\n",
       "7   Cherry   East    160        10\n",
       "8   Cherry   West    190        25\n",
       "9   Banana  North    110         0\n",
       "10   Apple   West    160        10\n",
       "11  Cherry   East    150        20"
      ]
     },
     "execution_count": 10,
     "metadata": {},
     "output_type": "execute_result"
    }
   ],
   "source": [
    "data = {\n",
    "    'Product': ['Apple', 'Apple', 'Banana', 'Banana', 'Banana', 'Cherry', 'Cherry', 'Cherry', 'Cherry', 'Banana', 'Apple', 'Cherry'],\n",
    "    'Region': ['North', 'South', 'North', 'South', 'East', 'North', 'South', 'East', 'West', 'North', 'West', 'East'],\n",
    "    'Sales': [200, 150, 100, 120, 130, 180, 170, 160, 190, 110, 160, 150],\n",
    "    'Discount': [10, 15, 5, 10, 5, 20, 15, 10, 25, 0, 10, 20]\n",
    "}\n",
    "\n",
    "df = pd.DataFrame(data)\n",
    "df"
   ]
  },
  {
   "cell_type": "markdown",
   "id": "62cfc6bd-b3a9-4cd6-9571-7e32de137058",
   "metadata": {},
   "source": [
    "Now according to that DataFrame, we got multiple repeated data in the column 'product'. let's see what happens if *groupby* is used by the column *product*:"
   ]
  },
  {
   "cell_type": "code",
   "execution_count": 18,
   "id": "465ea221-2aa1-40ae-b7dd-3d934984db9a",
   "metadata": {},
   "outputs": [
    {
     "data": {
      "text/plain": [
       "<pandas.core.groupby.generic.DataFrameGroupBy object at 0x000001BDFFA17F10>"
      ]
     },
     "execution_count": 18,
     "metadata": {},
     "output_type": "execute_result"
    }
   ],
   "source": [
    "df.groupby('Product')"
   ]
  },
  {
   "cell_type": "markdown",
   "id": "cef16d15-d277-41b2-8389-6459a3562c51",
   "metadata": {},
   "source": [
    "#### oh, why did that not showed a dataframe with only non-repeated data?\n",
    "When you use df.groupby('Product'), it doesn’t immediately show you the manipulated or grouped data because groupby only groups the data internally without performing any calculations or manipulations yet. It essentially prepares the data to be grouped but doesn't do anything with those groups until you tell it what to do.\n",
    "#### so the function in the end of the sentence matters!"
   ]
  },
  {
   "cell_type": "markdown",
   "id": "3d876beb-a20d-45bc-917a-9344f6ff4532",
   "metadata": {},
   "source": [
    "The groupby operation is just the first step. It’s like telling pandas, \"Hey, I want to organize this data by the 'Product' column,\" but without telling it what to do with the organized data. Pandas is waiting for you to specify what operation you want to perform on these groups."
   ]
  },
  {
   "cell_type": "code",
   "execution_count": 21,
   "id": "7add174c-4746-4027-b038-632e0ae5f49b",
   "metadata": {},
   "outputs": [
    {
     "data": {
      "text/plain": [
       "Product\n",
       "Apple     510\n",
       "Banana    460\n",
       "Cherry    850\n",
       "Name: Sales, dtype: int64"
      ]
     },
     "execution_count": 21,
     "metadata": {},
     "output_type": "execute_result"
    }
   ],
   "source": [
    "df.groupby('Product')['Sales'].sum()"
   ]
  },
  {
   "cell_type": "code",
   "execution_count": null,
   "id": "dd51436b-f039-467f-b4b0-57931d826b78",
   "metadata": {},
   "outputs": [],
   "source": []
  }
 ],
 "metadata": {
  "kernelspec": {
   "display_name": "Python 3 (ipykernel)",
   "language": "python",
   "name": "python3"
  },
  "language_info": {
   "codemirror_mode": {
    "name": "ipython",
    "version": 3
   },
   "file_extension": ".py",
   "mimetype": "text/x-python",
   "name": "python",
   "nbconvert_exporter": "python",
   "pygments_lexer": "ipython3",
   "version": "3.11.2"
  }
 },
 "nbformat": 4,
 "nbformat_minor": 5
}
