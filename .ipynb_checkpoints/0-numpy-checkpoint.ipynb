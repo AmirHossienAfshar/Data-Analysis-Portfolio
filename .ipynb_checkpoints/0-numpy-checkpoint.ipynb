{
 "cells": [
  {
   "cell_type": "markdown",
   "id": "ac040768-7ffb-4b57-99e1-859e3745551e",
   "metadata": {},
   "source": [
    "# Numpy portfolio part zero"
   ]
  },
  {
   "cell_type": "markdown",
   "id": "7ca7b268-343d-4c9c-9606-12bdb9e68c09",
   "metadata": {},
   "source": [
    "note: After spending a considerable amount of time on insufficient learning, this marks my initial official attempt at learning Numpy. hoping this time I keep learning untill some reasonble resualts!\n",
    "\n",
    "### so what is numpy afterall? \n",
    "\n",
    "basically, it has alot to do with arrays. to be more precies about that, numpy (short for Numerical Python,) is a python library used primarily for working with array. very famouse in linear algebra and matrices. \n",
    "\n",
    "---\n",
    "getting started with numpy: making simple arrays:"
   ]
  },
  {
   "cell_type": "code",
   "execution_count": 3,
   "id": "02c71fcd-46bc-4609-afea-3159ab1b02b5",
   "metadata": {},
   "outputs": [],
   "source": [
    "import numpy as np"
   ]
  },
  {
   "cell_type": "code",
   "execution_count": 4,
   "id": "499fab10-2644-4854-b83c-dcfc37599ea4",
   "metadata": {},
   "outputs": [
    {
     "data": {
      "text/plain": [
       "array([0, 1, 2, 3, 4])"
      ]
     },
     "execution_count": 4,
     "metadata": {},
     "output_type": "execute_result"
    }
   ],
   "source": [
    "x = np.array([0, 1, 2, 3, 4])\n",
    "x"
   ]
  },
  {
   "cell_type": "code",
   "execution_count": 5,
   "id": "3af182e3-5159-4352-9fe6-d9dfb0e77616",
   "metadata": {},
   "outputs": [
    {
     "data": {
      "text/plain": [
       "numpy.ndarray"
      ]
     },
     "execution_count": 5,
     "metadata": {},
     "output_type": "execute_result"
    }
   ],
   "source": [
    "type(x)"
   ]
  },
  {
   "cell_type": "markdown",
   "id": "6fe4c3a3-c81b-4d06-a791-93dead2699da",
   "metadata": {},
   "source": [
    "the *ndarray* means n-dimentional array."
   ]
  },
  {
   "cell_type": "code",
   "execution_count": 6,
   "id": "3b8bdb4b-2040-4549-add8-b1a20fcc3adf",
   "metadata": {},
   "outputs": [
    {
     "data": {
      "text/plain": [
       "array([[0, 1, 2],\n",
       "       [3, 4, 5]])"
      ]
     },
     "execution_count": 6,
     "metadata": {},
     "output_type": "execute_result"
    }
   ],
   "source": [
    "y = np.array([[0, 1, 2], [3, 4, 5]])\n",
    "y"
   ]
  },
  {
   "cell_type": "markdown",
   "id": "7368cab8-7b6f-49b4-8953-3963b10bf8bb",
   "metadata": {},
   "source": [
    "the probable bettwe way to write down more-than-one dimentional arrays are like below:"
   ]
  },
  {
   "cell_type": "code",
   "execution_count": 7,
   "id": "ff72fb96-2405-4787-8fcd-25410d93fff7",
   "metadata": {},
   "outputs": [
    {
     "data": {
      "text/plain": [
       "array([[0, 1, 2],\n",
       "       [3, 4, 5],\n",
       "       [6, 7, 8]])"
      ]
     },
     "execution_count": 7,
     "metadata": {},
     "output_type": "execute_result"
    }
   ],
   "source": [
    "z = np.array([[0, 1, 2],\n",
    "              [3, 4, 5],\n",
    "              [6, 7, 8]])\n",
    "z"
   ]
  },
  {
   "cell_type": "markdown",
   "id": "c7a8d0fe-22ef-4d03-9e63-be4f286d8bde",
   "metadata": {},
   "source": [
    "as mentioned above, the type() indicates that x, y and z are n-dim arrays. how to see how many dims do they got? here is the answer:"
   ]
  },
  {
   "cell_type": "code",
   "execution_count": 8,
   "id": "e0faa976-1ca6-4bb0-9be3-5351a6df6b2e",
   "metadata": {},
   "outputs": [
    {
     "data": {
      "text/plain": [
       "2"
      ]
     },
     "execution_count": 8,
     "metadata": {},
     "output_type": "execute_result"
    }
   ],
   "source": [
    "z.ndim"
   ]
  },
  {
   "cell_type": "markdown",
   "id": "3bbbe035-4add-469b-abb8-ac546578e548",
   "metadata": {},
   "source": [
    "---\n",
    "\n",
    "#### what do you know about dimention?\n",
    "The first axis represents the rows, and the second axis represents the columns. so that is a 2 dimentional array!\n",
    "what about more-dimentional arrays? how to make those?\n",
    "the short and simple answer is to count the number of nested ([]) in an array() instance. below is a 3 dimentional array:"
   ]
  },
  {
   "cell_type": "code",
   "execution_count": 9,
   "id": "fe49f1f9-21b6-40ac-b6f5-cac8adc4c014",
   "metadata": {},
   "outputs": [
    {
     "data": {
      "text/plain": [
       "array([[[ 0,  1,  2],\n",
       "        [ 3,  4,  5],\n",
       "        [ 6,  7,  8]],\n",
       "\n",
       "       [[ 9, 10, 11],\n",
       "        [12, 13, 14],\n",
       "        [15, 16, 17]],\n",
       "\n",
       "       [[18, 19, 20],\n",
       "        [21, 22, 23],\n",
       "        [24, 25, 25]]])"
      ]
     },
     "execution_count": 9,
     "metadata": {},
     "output_type": "execute_result"
    }
   ],
   "source": [
    "x = np.array([[[0, 1, 2],\n",
    "               [3, 4, 5],\n",
    "               [6, 7, 8]],\n",
    "              \n",
    "              [[9, 10, 11],\n",
    "              [12, 13, 14],\n",
    "              [15, 16, 17]],\n",
    "              \n",
    "             [[18, 19, 20],\n",
    "              [21, 22, 23],\n",
    "              [24, 25, 25]]\n",
    "             ])\n",
    "x"
   ]
  },
  {
   "cell_type": "code",
   "execution_count": 10,
   "id": "33abfac6-6f4a-44c4-9790-36051d34a956",
   "metadata": {},
   "outputs": [
    {
     "data": {
      "text/plain": [
       "3"
      ]
     },
     "execution_count": 10,
     "metadata": {},
     "output_type": "execute_result"
    }
   ],
   "source": [
    "x.ndim"
   ]
  },
  {
   "cell_type": "markdown",
   "id": "7edb9f4b-83f3-45e0-9ef2-cdf694af0bd5",
   "metadata": {},
   "source": [
    "#### how to check how many row or column or others an array has? \n",
    "easily, with .shape."
   ]
  },
  {
   "cell_type": "code",
   "execution_count": 11,
   "id": "cdc74acb-0067-47c2-a6b2-c4e2821ba170",
   "metadata": {},
   "outputs": [
    {
     "data": {
      "text/plain": [
       "(3, 3, 3)"
      ]
     },
     "execution_count": 11,
     "metadata": {},
     "output_type": "execute_result"
    }
   ],
   "source": [
    "x.shape"
   ]
  },
  {
   "cell_type": "markdown",
   "id": "ad2e5904-4b9a-4232-ad6e-a7d687a7d3e2",
   "metadata": {},
   "source": [
    "#### how to see the total count of an array elemnts?\n",
    "easily, with .size."
   ]
  },
  {
   "cell_type": "code",
   "execution_count": 12,
   "id": "a84b9082-93db-4d83-9860-c479f0da0097",
   "metadata": {},
   "outputs": [
    {
     "data": {
      "text/plain": [
       "27"
      ]
     },
     "execution_count": 12,
     "metadata": {},
     "output_type": "execute_result"
    }
   ],
   "source": [
    "x.size"
   ]
  },
  {
   "cell_type": "markdown",
   "id": "1b45f61f-bca0-416d-9f52-c21008592ec2",
   "metadata": {},
   "source": [
    "(by the way, I just got rejected from a data sience job I applied. moving on... )\n",
    "\n",
    "---\n",
    "\n",
    "#### Fun different arrays in numpy\n",
    "just see below to feel the magic:"
   ]
  },
  {
   "cell_type": "code",
   "execution_count": 13,
   "id": "c3c48733-cff2-435f-905b-b6e202febd83",
   "metadata": {},
   "outputs": [
    {
     "data": {
      "text/plain": [
       "array([[1., 0., 0., 0., 0.],\n",
       "       [0., 1., 0., 0., 0.],\n",
       "       [0., 0., 1., 0., 0.],\n",
       "       [0., 0., 0., 1., 0.],\n",
       "       [0., 0., 0., 0., 1.]])"
      ]
     },
     "execution_count": 13,
     "metadata": {},
     "output_type": "execute_result"
    }
   ],
   "source": [
    "x = np.eye(5)\n",
    "x"
   ]
  },
  {
   "cell_type": "code",
   "execution_count": 14,
   "id": "a03f279c-1152-4bd4-bf39-790f6743ff02",
   "metadata": {},
   "outputs": [
    {
     "data": {
      "text/plain": [
       "array([[1., 1., 1., 1., 1.],\n",
       "       [1., 1., 1., 1., 1.],\n",
       "       [1., 1., 1., 1., 1.],\n",
       "       [1., 1., 1., 1., 1.],\n",
       "       [1., 1., 1., 1., 1.]])"
      ]
     },
     "execution_count": 14,
     "metadata": {},
     "output_type": "execute_result"
    }
   ],
   "source": [
    "x = np.ones((5, 5))\n",
    "x"
   ]
  },
  {
   "cell_type": "code",
   "execution_count": 15,
   "id": "ce0ba27e-3705-4971-b3be-6f59fd86befd",
   "metadata": {},
   "outputs": [
    {
     "data": {
      "text/plain": [
       "array([[0., 0., 0., 0., 0.],\n",
       "       [0., 0., 0., 0., 0.],\n",
       "       [0., 0., 0., 0., 0.],\n",
       "       [0., 0., 0., 0., 0.],\n",
       "       [0., 0., 0., 0., 0.]])"
      ]
     },
     "execution_count": 15,
     "metadata": {},
     "output_type": "execute_result"
    }
   ],
   "source": [
    "x = np.zeros((5, 5))\n",
    "x"
   ]
  },
  {
   "cell_type": "markdown",
   "id": "3ec2e676-b17a-47a8-8fa4-8ed8b52e9255",
   "metadata": {},
   "source": [
    "---\n",
    "\n",
    "#### is there a way to create those arrays faster?\n",
    "NumPy *arange()* is one of the array creation routines based on numerical ranges. It creates an instance of ndarray with evenly spaced values and returns the reference to it.\n",
    "here is the schema for its parameters:\n",
    "```python\n",
    "numpy.arange([start, ]stop, [step, ], dtype=None) -> numpy.ndarray\n",
    "```\n",
    "don't get confused. read these examples below:"
   ]
  },
  {
   "cell_type": "code",
   "execution_count": 16,
   "id": "ae13fbdd-40b9-4f52-a068-053cd9c0f259",
   "metadata": {},
   "outputs": [
    {
     "data": {
      "text/plain": [
       "array([0, 3, 6, 9])"
      ]
     },
     "execution_count": 16,
     "metadata": {},
     "output_type": "execute_result"
    }
   ],
   "source": [
    "x = np.arange(0, 10, 3)\n",
    "x"
   ]
  },
  {
   "cell_type": "markdown",
   "id": "3252f067-f008-430d-84bf-5bd52e7d2776",
   "metadata": {},
   "source": [
    "to show that better, here is what that above indicates:\n",
    "```python\n",
    "x = np.arange(start=0, end=10, step=3)\n",
    "```"
   ]
  },
  {
   "cell_type": "code",
   "execution_count": 17,
   "id": "f055369a-20dc-4d8f-9a3b-0d2dc1898ae4",
   "metadata": {},
   "outputs": [
    {
     "data": {
      "text/plain": [
       "array([0, 1, 2, 3, 4, 5, 6, 7, 8, 9])"
      ]
     },
     "execution_count": 17,
     "metadata": {},
     "output_type": "execute_result"
    }
   ],
   "source": [
    "x = np.arange(10)\n",
    "x"
   ]
  },
  {
   "cell_type": "code",
   "execution_count": 18,
   "id": "03e30cd5-7cf4-4fd8-8190-285b5a632875",
   "metadata": {},
   "outputs": [
    {
     "data": {
      "text/plain": [
       "array([10,  8,  6,  4])"
      ]
     },
     "execution_count": 18,
     "metadata": {},
     "output_type": "execute_result"
    }
   ],
   "source": [
    "x = np.arange(10, 3, -2)\n",
    "x"
   ]
  },
  {
   "cell_type": "code",
   "execution_count": 19,
   "id": "9dcd501c-bd97-4ced-ab85-c1efb154849c",
   "metadata": {},
   "outputs": [
    {
     "data": {
      "text/plain": [
       "array([1. , 1.1, 1.2, 1.3, 1.4, 1.5, 1.6, 1.7, 1.8, 1.9])"
      ]
     },
     "execution_count": 19,
     "metadata": {},
     "output_type": "execute_result"
    }
   ],
   "source": [
    "x = np.arange(1, 2, 0.1)\n",
    "x"
   ]
  },
  {
   "cell_type": "markdown",
   "id": "301a47c3-2379-4634-82b9-8987433e9253",
   "metadata": {},
   "source": [
    "---\n",
    "\n",
    "#### question: is there a way to use arange to make more-than-one dimentional arrays?\n",
    "answer: use *reshape()* to do that:"
   ]
  },
  {
   "cell_type": "code",
   "execution_count": 20,
   "id": "baa76667-1fb8-42e6-ac0c-a63c7dbdb5db",
   "metadata": {},
   "outputs": [
    {
     "data": {
      "text/plain": [
       "array([[0, 1],\n",
       "       [2, 3],\n",
       "       [4, 5]])"
      ]
     },
     "execution_count": 20,
     "metadata": {},
     "output_type": "execute_result"
    }
   ],
   "source": [
    "x = np.arange(6)\n",
    "x = x.reshape((3, 2))\n",
    "x"
   ]
  },
  {
   "cell_type": "code",
   "execution_count": 21,
   "id": "695039b5-ba20-4983-a4bd-45aaacdffc94",
   "metadata": {},
   "outputs": [
    {
     "data": {
      "text/plain": [
       "array([[ 0,  2,  4,  6],\n",
       "       [ 8, 10, 12, 14],\n",
       "       [16, 18, 20, 22],\n",
       "       [24, 26, 28, 30]])"
      ]
     },
     "execution_count": 21,
     "metadata": {},
     "output_type": "execute_result"
    }
   ],
   "source": [
    "x = np.arange(0, 32, 2).reshape((4, 4))\n",
    "x"
   ]
  },
  {
   "cell_type": "code",
   "execution_count": 22,
   "id": "3a32d6e7-d49e-47b7-8c1e-20b527a8ce42",
   "metadata": {},
   "outputs": [
    {
     "data": {
      "text/plain": [
       "array([[ 0,  2,  4,  6,  8, 10, 12, 14],\n",
       "       [16, 18, 20, 22, 24, 26, 28, 30]])"
      ]
     },
     "execution_count": 22,
     "metadata": {},
     "output_type": "execute_result"
    }
   ],
   "source": [
    "np.reshape(x, (2, 8))"
   ]
  },
  {
   "cell_type": "markdown",
   "id": "b58a08b6-7ce4-4b29-8257-d03d5d2a4861",
   "metadata": {},
   "source": [
    "---\n",
    "\n",
    "#### a quick question: what are in-place or out-of-place functions?\n",
    "consider this below:\n",
    "```python\n",
    "x.reshape((3, 2))\n",
    "```\n",
    "the one above, does not change anything on the array x. It just returns a new array, that has the desired changes. If you wish to use the new array, you could simply assign that to a new variable like below:\n",
    "```python\n",
    "reshaped_arr = x.reshape((3, 2))\n",
    "```\n",
    "so, the *reshape()* function is basically an **out-of-place** function. These functions do not modify the original array. Instead, they return a new array with the desired changes, leaving the original array untouched.\n",
    "what about **in-shape** functions? These functions do modify the original array directly, meaning that the changes are reflected in the original array itself.\n",
    "##### so, which type are the numpy functions?\n",
    "Most NumPy functions are out-of-place by default. This is consistent with NumPy's design philosophy to ensure that the original data is preserved unless explicitly requested to be modified. This behavior is beneficial when you need to maintain the integrity of the original data, especially when working in scientific computing and data analysis, where preserving the original dataset is crucial."
   ]
  },
  {
   "cell_type": "markdown",
   "id": "6f9a9dbc-8c7f-42d2-a90d-af43029a76a8",
   "metadata": {},
   "source": [
    "##### what is inplace=true then?\n",
    "some other libraries like Pandas, may have that 'inplace=true' in some function parameters, making them in-place functions rather than out-of-place ones.\n",
    "consider this example?:\n",
    "```python\n",
    "df = pd.DataFrame({'A': [1, 2, 3]})\n",
    "df.drop('A', axis=1, inplace=True)\n",
    "```\n",
    "that *inplace=true* parameter, makes sure that the changes appear in the original array. (not a copy of that.)"
   ]
  },
  {
   "cell_type": "markdown",
   "id": "05e5b02b-7e78-404f-8417-ea5a2fbb4a6a",
   "metadata": {},
   "source": [
    "---\n",
    "\n",
    "#### what are linear spaces and log spaces?\n",
    "linear spaces, refers to a sequence of numbers that are evenly spaced between a specified starting point and an endpoint. here is how its parameters' posisined:\n",
    "```python\n",
    "numpy.linspace(start, stop, num=50, endpoint=True, retstep=False, dtype=None)\n",
    "```\n",
    "so, the default number=50"
   ]
  },
  {
   "cell_type": "code",
   "execution_count": 24,
   "id": "59a46cea-6d83-4ad3-825f-e8da1317dc3f",
   "metadata": {},
   "outputs": [
    {
     "data": {
      "text/plain": [
       "array([ 0.        ,  0.20408163,  0.40816327,  0.6122449 ,  0.81632653,\n",
       "        1.02040816,  1.2244898 ,  1.42857143,  1.63265306,  1.83673469,\n",
       "        2.04081633,  2.24489796,  2.44897959,  2.65306122,  2.85714286,\n",
       "        3.06122449,  3.26530612,  3.46938776,  3.67346939,  3.87755102,\n",
       "        4.08163265,  4.28571429,  4.48979592,  4.69387755,  4.89795918,\n",
       "        5.10204082,  5.30612245,  5.51020408,  5.71428571,  5.91836735,\n",
       "        6.12244898,  6.32653061,  6.53061224,  6.73469388,  6.93877551,\n",
       "        7.14285714,  7.34693878,  7.55102041,  7.75510204,  7.95918367,\n",
       "        8.16326531,  8.36734694,  8.57142857,  8.7755102 ,  8.97959184,\n",
       "        9.18367347,  9.3877551 ,  9.59183673,  9.79591837, 10.        ])"
      ]
     },
     "execution_count": 24,
     "metadata": {},
     "output_type": "execute_result"
    }
   ],
   "source": [
    "np.linspace(0, 10)"
   ]
  },
  {
   "cell_type": "code",
   "execution_count": 26,
   "id": "13a6f3e9-7f6c-4933-8425-b389297160c5",
   "metadata": {},
   "outputs": [
    {
     "data": {
      "text/plain": [
       "array([0., 1., 2., 3., 4., 5., 6., 7., 8., 9.])"
      ]
     },
     "execution_count": 26,
     "metadata": {},
     "output_type": "execute_result"
    }
   ],
   "source": [
    "np.linspace(0, 9, 10)"
   ]
  },
  {
   "cell_type": "markdown",
   "id": "c172ffab-2c45-4141-87e7-540c04417f67",
   "metadata": {},
   "source": [
    "what about **log space**? numpy.logspace is a function in NumPy that generates numbers spaced evenly on a logarithmic scale. Instead of generating numbers evenly spaced in linear space (like linspace), logspace generates numbers that are evenly spaced in log space. This is useful when you need to create a sequence of values that grow (or shrink) exponentially.\n",
    "```python\n",
    "numpy.logspace(start, stop, num=50, endpoint=True, base=10.0, dtype=None)\n",
    "```\n",
    "above shows its parameters."
   ]
  },
  {
   "cell_type": "code",
   "execution_count": 33,
   "id": "a31d770a-3b1f-4b01-8052-7d8c68688c8e",
   "metadata": {},
   "outputs": [
    {
     "data": {
      "text/plain": [
       "array([  1.,   2.,   4.,   8.,  16.,  32.,  64., 128., 256., 512.])"
      ]
     },
     "execution_count": 33,
     "metadata": {},
     "output_type": "execute_result"
    }
   ],
   "source": [
    "np.logspace(0, 9, num=10, base=2)"
   ]
  },
  {
   "cell_type": "code",
   "execution_count": 32,
   "id": "b4a5df9e-3211-4ad9-93b2-cc46047f5765",
   "metadata": {},
   "outputs": [
    {
     "data": {
      "text/plain": [
       "array([ 1.,  2.,  4.,  8., 16.])"
      ]
     },
     "execution_count": 32,
     "metadata": {},
     "output_type": "execute_result"
    }
   ],
   "source": [
    "np.logspace(0, 4, num=5, base=2)"
   ]
  },
  {
   "cell_type": "markdown",
   "id": "b159cf9c-2f22-4051-bb42-afac8c5cdc1d",
   "metadata": {},
   "source": [
    "---"
   ]
  },
  {
   "cell_type": "markdown",
   "id": "1fa1dc08-53e1-4afe-9336-5ac67a92844d",
   "metadata": {},
   "source": [
    "#### how to generate arrays with random numbers?\n",
    "using random()! checkout examples below:\n",
    "\n",
    "this **random.rand** generates a random array, with the numbers being its dims lenght."
   ]
  },
  {
   "cell_type": "code",
   "execution_count": 38,
   "id": "d604bab1-7cfa-40cb-b118-401974607a5d",
   "metadata": {},
   "outputs": [
    {
     "data": {
      "text/plain": [
       "array([[0.92159351, 0.5453029 , 0.87550607, 0.71707194],\n",
       "       [0.78739933, 0.29737298, 0.94101626, 0.18362168]])"
      ]
     },
     "execution_count": 38,
     "metadata": {},
     "output_type": "execute_result"
    }
   ],
   "source": [
    "np.random.rand(2, 4)   # a 2*4 random array."
   ]
  },
  {
   "cell_type": "markdown",
   "id": "0169fb7b-3bff-4330-80c5-7e266dce8dbf",
   "metadata": {},
   "source": [
    "The **random.randint** is generates random integers, that has these parameters:\n",
    "```python\n",
    "random.randint(low, high=None, size=None, dtype=int)\n",
    "```\n",
    "consider this example:"
   ]
  },
  {
   "cell_type": "code",
   "execution_count": 41,
   "id": "99f2cd59-03b1-41bb-920e-00b37ee55197",
   "metadata": {},
   "outputs": [
    {
     "data": {
      "text/plain": [
       "array([18, 13, 13, 15, 16])"
      ]
     },
     "execution_count": 41,
     "metadata": {},
     "output_type": "execute_result"
    }
   ],
   "source": [
    "np.random.randint(12, 20, 5)"
   ]
  },
  {
   "cell_type": "code",
   "execution_count": 42,
   "id": "a761e044-20ca-4dec-8156-4dbaa5530980",
   "metadata": {},
   "outputs": [
    {
     "data": {
      "text/plain": [
       "42"
      ]
     },
     "execution_count": 42,
     "metadata": {},
     "output_type": "execute_result"
    }
   ],
   "source": [
    "np.random.randint(0, 100)"
   ]
  },
  {
   "cell_type": "markdown",
   "id": "3122731e-f7b2-43d6-a2c1-62c837fc4179",
   "metadata": {},
   "source": [
    "---"
   ]
  },
  {
   "cell_type": "markdown",
   "id": "fe05c348-c001-4d6d-8f84-bc93f95a0e56",
   "metadata": {},
   "source": [
    "### some basic math functions on arrays\n",
    "#### Element-Wise Arithmetic\n",
    "those could be some Element-Wise Arithmetic Operations like below:"
   ]
  },
  {
   "cell_type": "code",
   "execution_count": 44,
   "id": "69c800ac-8e96-49c9-9493-15f0c0ab6b3d",
   "metadata": {},
   "outputs": [
    {
     "data": {
      "text/plain": [
       "array([2, 3, 4, 5])"
      ]
     },
     "execution_count": 44,
     "metadata": {},
     "output_type": "execute_result"
    }
   ],
   "source": [
    "x = np.array([0, 1, 2, 3])\n",
    "x += 2\n",
    "x"
   ]
  },
  {
   "cell_type": "code",
   "execution_count": 45,
   "id": "22f4f0fb-40bf-4c16-9463-38259585e372",
   "metadata": {},
   "outputs": [
    {
     "data": {
      "text/plain": [
       "array([ 4,  6,  8, 10])"
      ]
     },
     "execution_count": 45,
     "metadata": {},
     "output_type": "execute_result"
    }
   ],
   "source": [
    "x *= 2\n",
    "x"
   ]
  },
  {
   "cell_type": "markdown",
   "id": "a2f98d2a-5d0f-4f7f-b392-c5c03f46d7a8",
   "metadata": {},
   "source": [
    "#### Aggregate Functions\n",
    "those could also include Aggregate Functions like these:"
   ]
  },
  {
   "cell_type": "code",
   "execution_count": 47,
   "id": "55a9d917-cd57-4334-a2ef-ee3acd44738c",
   "metadata": {},
   "outputs": [
    {
     "data": {
      "text/plain": [
       "28"
      ]
     },
     "execution_count": 47,
     "metadata": {},
     "output_type": "execute_result"
    }
   ],
   "source": [
    "np.sum(x)"
   ]
  },
  {
   "cell_type": "code",
   "execution_count": 48,
   "id": "23b891be-d148-43bf-9eb6-52009d3fbf2b",
   "metadata": {},
   "outputs": [
    {
     "data": {
      "text/plain": [
       "7.0"
      ]
     },
     "execution_count": 48,
     "metadata": {},
     "output_type": "execute_result"
    }
   ],
   "source": [
    "np.mean(x)    # mean means the avarage"
   ]
  },
  {
   "cell_type": "code",
   "execution_count": 50,
   "id": "4a523548-d0bd-42eb-a5ba-637433cd975c",
   "metadata": {},
   "outputs": [
    {
     "data": {
      "text/plain": [
       "5.0"
      ]
     },
     "execution_count": 50,
     "metadata": {},
     "output_type": "execute_result"
    }
   ],
   "source": [
    "np.var(x)     # varians"
   ]
  },
  {
   "cell_type": "code",
   "execution_count": 51,
   "id": "4f52a430-01a9-49c0-899d-9408fce4d1ee",
   "metadata": {},
   "outputs": [
    {
     "data": {
      "text/plain": [
       "2.23606797749979"
      ]
     },
     "execution_count": 51,
     "metadata": {},
     "output_type": "execute_result"
    }
   ],
   "source": [
    "np.std(x)     # standard deviation"
   ]
  },
  {
   "cell_type": "markdown",
   "id": "80ad3749-b072-4680-8552-eb78917beaa5",
   "metadata": {},
   "source": [
    "#### rounding functions\n",
    "Here are some cool rounding functions, that are assumed as math function:"
   ]
  },
  {
   "cell_type": "code",
   "execution_count": 52,
   "id": "c0e7a638-7fe8-40cb-a894-b426f51d6855",
   "metadata": {},
   "outputs": [
    {
     "data": {
      "text/plain": [
       "array([1., 2., 3.])"
      ]
     },
     "execution_count": 52,
     "metadata": {},
     "output_type": "execute_result"
    }
   ],
   "source": [
    "np.floor([1.7, 2.3, 3.9])"
   ]
  },
  {
   "cell_type": "code",
   "execution_count": 53,
   "id": "125c80bd-49e0-42e4-93de-73f3d490cacc",
   "metadata": {},
   "outputs": [
    {
     "data": {
      "text/plain": [
       "array([2., 3., 4.])"
      ]
     },
     "execution_count": 53,
     "metadata": {},
     "output_type": "execute_result"
    }
   ],
   "source": [
    "np.ceil([1.7, 2.3, 3.9])"
   ]
  },
  {
   "cell_type": "markdown",
   "id": "69a27f99-d5ce-4871-a314-7daf4f07f6b0",
   "metadata": {},
   "source": [
    "#### Trigonometric Functions"
   ]
  },
  {
   "cell_type": "code",
   "execution_count": 55,
   "id": "4fc9407e-6a20-48e1-b24a-792ae0df5aff",
   "metadata": {},
   "outputs": [
    {
     "data": {
      "text/plain": [
       "array([-0.7568025 , -0.2794155 ,  0.98935825, -0.54402111])"
      ]
     },
     "execution_count": 55,
     "metadata": {},
     "output_type": "execute_result"
    }
   ],
   "source": [
    "np.sin(x)"
   ]
  },
  {
   "cell_type": "code",
   "execution_count": 57,
   "id": "27619308-7388-4c8e-9e93-199128b64a46",
   "metadata": {},
   "outputs": [
    {
     "data": {
      "text/plain": [
       "array([-0.44807362])"
      ]
     },
     "execution_count": 57,
     "metadata": {},
     "output_type": "execute_result"
    }
   ],
   "source": [
    "np.cos([90])"
   ]
  },
  {
   "cell_type": "code",
   "execution_count": 58,
   "id": "df3c78ba-028f-44b1-bed3-e4b960d7ce24",
   "metadata": {},
   "outputs": [
    {
     "data": {
      "text/plain": [
       "array([1.57079633])"
      ]
     },
     "execution_count": 58,
     "metadata": {},
     "output_type": "execute_result"
    }
   ],
   "source": [
    "np.arcsin([1])"
   ]
  },
  {
   "cell_type": "markdown",
   "id": "8aa121ed-44b4-42e5-90a4-2a1d4bbe08ca",
   "metadata": {},
   "source": [
    "#### Exponential and Logarithmic Functions"
   ]
  },
  {
   "cell_type": "code",
   "execution_count": 59,
   "id": "7d11b9ef-4f10-4bd2-ab95-77d8c5cd19f0",
   "metadata": {},
   "outputs": [
    {
     "data": {
      "text/plain": [
       "array([1.38629436, 1.79175947, 2.07944154, 2.30258509])"
      ]
     },
     "execution_count": 59,
     "metadata": {},
     "output_type": "execute_result"
    }
   ],
   "source": [
    "np.log(x)"
   ]
  },
  {
   "cell_type": "code",
   "execution_count": 60,
   "id": "6772e0cc-ac82-4c70-b9f4-0d797c126c8f",
   "metadata": {},
   "outputs": [
    {
     "data": {
      "text/plain": [
       "array([0.60205999, 0.77815125, 0.90308999, 1.        ])"
      ]
     },
     "execution_count": 60,
     "metadata": {},
     "output_type": "execute_result"
    }
   ],
   "source": [
    "np.log10(x)"
   ]
  },
  {
   "cell_type": "code",
   "execution_count": 61,
   "id": "5886cf70-1943-43c3-837d-7786e18136f5",
   "metadata": {},
   "outputs": [
    {
     "data": {
      "text/plain": [
       "array([2.        , 2.5849625 , 3.        , 3.32192809])"
      ]
     },
     "execution_count": 61,
     "metadata": {},
     "output_type": "execute_result"
    }
   ],
   "source": [
    "np.log2(x)"
   ]
  },
  {
   "cell_type": "markdown",
   "id": "b05a6696-f017-4381-9aa1-0b7b4b872f0d",
   "metadata": {},
   "source": [
    "### some basic Linear Algebra Operations\n",
    "here are some basic matrix functions with numpy:"
   ]
  },
  {
   "cell_type": "code",
   "execution_count": 66,
   "id": "9d12bdb6-e296-4904-a35e-c519e6802d50",
   "metadata": {},
   "outputs": [],
   "source": [
    "a = np.array([[0, 1, 2],\n",
    "              [3, 4, 5],\n",
    "              [6, 7, 8]])\n",
    "b = np.array([[1, 2],\n",
    "              [3, 4],\n",
    "              [5, 6]])"
   ]
  },
  {
   "cell_type": "markdown",
   "id": "191171da-a54d-483e-8579-a9a4ddd04b95",
   "metadata": {},
   "source": [
    "here is how to calculate the dot product of those two arrays"
   ]
  },
  {
   "cell_type": "code",
   "execution_count": 67,
   "id": "5033f63a-1f7f-4fbd-bf21-374f07e87fde",
   "metadata": {},
   "outputs": [
    {
     "data": {
      "text/plain": [
       "array([[13, 16],\n",
       "       [40, 52],\n",
       "       [67, 88]])"
      ]
     },
     "execution_count": 67,
     "metadata": {},
     "output_type": "execute_result"
    }
   ],
   "source": [
    "np.dot(a, b)"
   ]
  },
  {
   "cell_type": "markdown",
   "id": "28f976b7-1a8d-4edd-8e47-8768ba0f2c2e",
   "metadata": {},
   "source": [
    "Matrix Multiplication:"
   ]
  },
  {
   "cell_type": "code",
   "execution_count": 68,
   "id": "3be3a07e-856e-41a4-9b8d-8936a02896df",
   "metadata": {},
   "outputs": [
    {
     "data": {
      "text/plain": [
       "array([[13, 16],\n",
       "       [40, 52],\n",
       "       [67, 88]])"
      ]
     },
     "execution_count": 68,
     "metadata": {},
     "output_type": "execute_result"
    }
   ],
   "source": [
    "np.matmul(a, b)"
   ]
  },
  {
   "cell_type": "markdown",
   "id": "6fb42e30-82b8-4bb4-ab7b-448353abded1",
   "metadata": {},
   "source": [
    "here is how to find the Transpose:"
   ]
  },
  {
   "cell_type": "code",
   "execution_count": 70,
   "id": "65417665-b5fa-4f11-a38c-42187890669f",
   "metadata": {},
   "outputs": [
    {
     "data": {
      "text/plain": [
       "array([[0, 3, 6],\n",
       "       [1, 4, 7],\n",
       "       [2, 5, 8]])"
      ]
     },
     "execution_count": 70,
     "metadata": {},
     "output_type": "execute_result"
    }
   ],
   "source": [
    "a.T"
   ]
  },
  {
   "cell_type": "markdown",
   "id": "1a2d2e80-8092-43e9-a47f-251e11972357",
   "metadata": {},
   "source": [
    "Determinant is calculated like below:"
   ]
  },
  {
   "cell_type": "code",
   "execution_count": 71,
   "id": "a982862d-e6e3-4b1c-851c-0ff38a2d71c2",
   "metadata": {},
   "outputs": [
    {
     "data": {
      "text/plain": [
       "0.0"
      ]
     },
     "execution_count": 71,
     "metadata": {},
     "output_type": "execute_result"
    }
   ],
   "source": [
    "np.linalg.det(a)"
   ]
  },
  {
   "cell_type": "markdown",
   "id": "be30ef1a-f1f5-4346-8839-5f11ada1d149",
   "metadata": {},
   "source": [
    "Inverse:"
   ]
  },
  {
   "cell_type": "code",
   "execution_count": 77,
   "id": "5d3e94c0-68c0-494c-aae5-ed759ef6d4cf",
   "metadata": {},
   "outputs": [
    {
     "data": {
      "text/plain": [
       "array([[0.41818683, 0.43004391, 0.62497456],\n",
       "       [0.07399974, 0.9245735 , 0.55799839],\n",
       "       [0.88583848, 0.65073641, 0.03314412]])"
      ]
     },
     "execution_count": 77,
     "metadata": {},
     "output_type": "execute_result"
    }
   ],
   "source": [
    "# np.linalg.inv(a) since s has det of zero, then the inverse is not avalible.\n",
    "c = np.random.rand(3, 3)\n",
    "c"
   ]
  },
  {
   "cell_type": "code",
   "execution_count": 79,
   "id": "4693fb4a-af22-49a0-8d16-195a4c2a2c58",
   "metadata": {},
   "outputs": [
    {
     "data": {
      "text/plain": [
       "array([[ 0.8122956 , -0.95882826,  0.82550232],\n",
       "       [-1.20169553,  1.31878148,  0.45713046],\n",
       "       [ 1.88342151, -0.26587418, -0.86691588]])"
      ]
     },
     "execution_count": 79,
     "metadata": {},
     "output_type": "execute_result"
    }
   ],
   "source": [
    "np.linalg.inv(c)"
   ]
  },
  {
   "cell_type": "markdown",
   "id": "af843483-654b-407e-afb0-01cc723e39dd",
   "metadata": {},
   "source": [
    "---"
   ]
  },
  {
   "cell_type": "code",
   "execution_count": null,
   "id": "cff8c6bb-3359-4570-92cc-c91825960c17",
   "metadata": {},
   "outputs": [],
   "source": []
  }
 ],
 "metadata": {
  "kernelspec": {
   "display_name": "Python 3 (ipykernel)",
   "language": "python",
   "name": "python3"
  },
  "language_info": {
   "codemirror_mode": {
    "name": "ipython",
    "version": 3
   },
   "file_extension": ".py",
   "mimetype": "text/x-python",
   "name": "python",
   "nbconvert_exporter": "python",
   "pygments_lexer": "ipython3",
   "version": "3.11.2"
  }
 },
 "nbformat": 4,
 "nbformat_minor": 5
}
