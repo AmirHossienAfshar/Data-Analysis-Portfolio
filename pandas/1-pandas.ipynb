{
 "cells": [
  {
   "cell_type": "markdown",
   "id": "b8da41ad",
   "metadata": {},
   "source": [
    "# pandas portfplio part zero\n",
    "pandas is a powerful and widely-used Python library for data manipulation and analysis. It provides two essential data structures: `Series` and `DataFrame`.\n",
    "\n",
    "### Series\n",
    "A Series is a one-dimensional array-like object that can hold data of any type (integers, strings, floats, etc.). Each element in a Series has a unique identifier called an index. You can think of a Series as a single column in a spreadsheet or a database table. Series are useful for handling and analyzing data, and they support various operations such as indexing, slicing, and vectorized operations.\n",
    "\n",
    "### DataFrame\n",
    "A DataFrame is a two-dimensional, table-like data structure that consists of multiple Series. It is similar to a spreadsheet or a SQL table, with rows and columns. Each column in a DataFrame is a Series, and the DataFrame itself is a collection of these Series. DataFrames are highly versatile and can handle a wide variety of data manipulation tasks, such as filtering, grouping, and merging."
   ]
  },
  {
   "cell_type": "markdown",
   "id": "5163af48",
   "metadata": {},
   "source": [
    "consider an example of studets scores like this:"
   ]
  },
  {
   "cell_type": "code",
   "execution_count": 3,
   "id": "a6676891",
   "metadata": {},
   "outputs": [],
   "source": [
    "import pandas as pd"
   ]
  },
  {
   "cell_type": "code",
   "execution_count": 4,
   "id": "99be5108",
   "metadata": {},
   "outputs": [
    {
     "data": {
      "text/plain": [
       "0    20\n",
       "1    19\n",
       "2    18\n",
       "3     6\n",
       "4     9\n",
       "dtype: int64"
      ]
     },
     "execution_count": 4,
     "metadata": {},
     "output_type": "execute_result"
    }
   ],
   "source": [
    "scores = pd.Series([20, 19, 18, 6, 9])\n",
    "scores"
   ]
  },
  {
   "cell_type": "markdown",
   "id": "439bcd5c",
   "metadata": {},
   "source": [
    "here above, we got a simple serie, could be thought as a simple column.\n",
    "\n",
    "---\n",
    "\n",
    "now let's give its rows **names**, rather than the row indexes:"
   ]
  },
  {
   "cell_type": "code",
   "execution_count": 7,
   "id": "8d39d56d",
   "metadata": {},
   "outputs": [
    {
     "data": {
      "text/plain": [
       "sam      20\n",
       "pam      19\n",
       "panam    18\n",
       "jym       6\n",
       "kim       9\n",
       "dtype: int64"
      ]
     },
     "execution_count": 7,
     "metadata": {},
     "output_type": "execute_result"
    }
   ],
   "source": [
    "scores = pd.Series([20, 19, 18, 6, 9], index=['sam', 'pam', 'panam', 'jym', 'kim'])\n",
    "scores"
   ]
  },
  {
   "cell_type": "markdown",
   "id": "e7b6a040",
   "metadata": {},
   "source": [
    "---\n",
    "\n",
    "there could be a **name assignment** for the whole table."
   ]
  },
  {
   "cell_type": "code",
   "execution_count": 30,
   "id": "22fb714c",
   "metadata": {},
   "outputs": [
    {
     "data": {
      "text/plain": [
       "sam      20\n",
       "pam      19\n",
       "panam    18\n",
       "jym       6\n",
       "kim       9\n",
       "Name: score table, dtype: int64"
      ]
     },
     "execution_count": 30,
     "metadata": {},
     "output_type": "execute_result"
    }
   ],
   "source": [
    "scores = pd.Series([20, 19, 18, 6, 9], index=['sam', 'pam', 'panam', 'jym', 'kim'], name='score table')\n",
    "scores"
   ]
  },
  {
   "cell_type": "markdown",
   "id": "8f0b069f",
   "metadata": {},
   "source": [
    "---\n",
    "here is how to **access the vlaues** with different indexes:"
   ]
  },
  {
   "cell_type": "code",
   "execution_count": 31,
   "id": "f03b2f2e",
   "metadata": {},
   "outputs": [
    {
     "data": {
      "text/plain": [
       "20"
      ]
     },
     "execution_count": 31,
     "metadata": {},
     "output_type": "execute_result"
    }
   ],
   "source": [
    "scores['sam']\n",
    "# scores[0]\n",
    "# those above are both same ways to call the values of a spicified index."
   ]
  },
  {
   "cell_type": "markdown",
   "id": "b92f7060",
   "metadata": {},
   "source": [
    "---\n",
    "there is a way to find the values by a **range of indexs** like below:"
   ]
  },
  {
   "cell_type": "code",
   "execution_count": 32,
   "id": "0c63ca47",
   "metadata": {},
   "outputs": [
    {
     "data": {
      "text/plain": [
       "sam      20\n",
       "pam      19\n",
       "panam    18\n",
       "Name: score table, dtype: int64"
      ]
     },
     "execution_count": 32,
     "metadata": {},
     "output_type": "execute_result"
    }
   ],
   "source": [
    "scores[0:3]"
   ]
  },
  {
   "cell_type": "markdown",
   "id": "897be6f7",
   "metadata": {},
   "source": [
    "---\n",
    "there could be **name assignment to the index column** like this:"
   ]
  },
  {
   "cell_type": "code",
   "execution_count": 33,
   "id": "20031177",
   "metadata": {},
   "outputs": [
    {
     "data": {
      "text/plain": [
       "students\n",
       "sam      20\n",
       "pam      19\n",
       "panam    18\n",
       "jym       6\n",
       "kim       9\n",
       "Name: score table, dtype: int64"
      ]
     },
     "execution_count": 33,
     "metadata": {},
     "output_type": "execute_result"
    }
   ],
   "source": [
    "scores.index.name = 'students'\n",
    "scores"
   ]
  },
  {
   "cell_type": "markdown",
   "id": "925aee69",
   "metadata": {},
   "source": [
    "---\n",
    "the **drop** function: this allows the list to drop a row, by calling its index."
   ]
  },
  {
   "cell_type": "code",
   "execution_count": 34,
   "id": "6b63e2b4",
   "metadata": {},
   "outputs": [
    {
     "data": {
      "text/plain": [
       "students\n",
       "sam      20\n",
       "panam    18\n",
       "jym       6\n",
       "kim       9\n",
       "Name: score table, dtype: int64"
      ]
     },
     "execution_count": 34,
     "metadata": {},
     "output_type": "execute_result"
    }
   ],
   "source": [
    "scores = scores.drop('pam')\n",
    "scores"
   ]
  },
  {
   "cell_type": "markdown",
   "id": "ba309f82",
   "metadata": {},
   "source": [
    "---\n",
    "here is how to drom more that one row, using braces '[]':"
   ]
  },
  {
   "cell_type": "code",
   "execution_count": 35,
   "id": "1837e478",
   "metadata": {},
   "outputs": [
    {
     "data": {
      "text/plain": [
       "students\n",
       "panam    18\n",
       "kim       9\n",
       "Name: score table, dtype: int64"
      ]
     },
     "execution_count": 35,
     "metadata": {},
     "output_type": "execute_result"
    }
   ],
   "source": [
    "scores = scores.drop(['sam', 'jym'])\n",
    "scores"
   ]
  },
  {
   "cell_type": "markdown",
   "id": "6af89dd8",
   "metadata": {},
   "source": [
    "---\n",
    "here is what **pop** function going to do:"
   ]
  },
  {
   "cell_type": "code",
   "execution_count": 36,
   "id": "d97f761b",
   "metadata": {},
   "outputs": [
    {
     "data": {
      "text/plain": [
       "18"
      ]
     },
     "execution_count": 36,
     "metadata": {},
     "output_type": "execute_result"
    }
   ],
   "source": [
    "scores.pop('panam')"
   ]
  },
  {
   "cell_type": "code",
   "execution_count": 37,
   "id": "0b77d555",
   "metadata": {},
   "outputs": [
    {
     "data": {
      "text/plain": [
       "students\n",
       "kim    9\n",
       "Name: score table, dtype: int64"
      ]
     },
     "execution_count": 37,
     "metadata": {},
     "output_type": "execute_result"
    }
   ],
   "source": [
    "scores"
   ]
  },
  {
   "cell_type": "markdown",
   "id": "bfcb0fc4",
   "metadata": {},
   "source": [
    "quick question: what is the difference between pop and drop (and del)? short ans: pop is python built-in function while drop belongs to pandas. (search more on this.)"
   ]
  },
  {
   "cell_type": "markdown",
   "id": "238ef007",
   "metadata": {},
   "source": [
    "---\n",
    "The **isin() method**: checks if the Dataframe contains the specified value(s).\n"
   ]
  },
  {
   "cell_type": "code",
   "execution_count": 38,
   "id": "c798bbc5",
   "metadata": {},
   "outputs": [
    {
     "data": {
      "text/plain": [
       "sam       True\n",
       "pam      False\n",
       "panam    False\n",
       "jym      False\n",
       "kim       True\n",
       "Name: score table, dtype: bool"
      ]
     },
     "execution_count": 38,
     "metadata": {},
     "output_type": "execute_result"
    }
   ],
   "source": [
    "scores = pd.Series([20, 19, 18, 6, 9], index=['sam', 'pam', 'panam', 'jym', 'kim'], name='score table')\n",
    "scores.isin([20, 9])"
   ]
  },
  {
   "cell_type": "markdown",
   "id": "f8262aa4",
   "metadata": {},
   "source": [
    "---\n",
    "the **copy()** function: simply makes a copy of a Serie (or DataFrame)."
   ]
  },
  {
   "cell_type": "code",
   "execution_count": 40,
   "id": "1943ab60",
   "metadata": {},
   "outputs": [
    {
     "data": {
      "text/plain": [
       "sam      20\n",
       "pam      19\n",
       "panam    18\n",
       "jym       6\n",
       "kim       9\n",
       "Name: score table, dtype: int64"
      ]
     },
     "execution_count": 40,
     "metadata": {},
     "output_type": "execute_result"
    }
   ],
   "source": [
    "my_new_serie = scores.copy()\n",
    "my_new_serie"
   ]
  },
  {
   "cell_type": "markdown",
   "id": "b1ce7d27",
   "metadata": {},
   "source": [
    "---\n",
    "how to **change values** of a specifyed index is below:"
   ]
  },
  {
   "cell_type": "code",
   "execution_count": 41,
   "id": "2c62204f",
   "metadata": {},
   "outputs": [
    {
     "data": {
      "text/plain": [
       "sam       0\n",
       "pam      19\n",
       "panam    18\n",
       "jym       6\n",
       "kim       9\n",
       "Name: score table, dtype: int64"
      ]
     },
     "execution_count": 41,
     "metadata": {},
     "output_type": "execute_result"
    }
   ],
   "source": [
    "my_new_serie['sam']=0\n",
    "my_new_serie"
   ]
  },
  {
   "cell_type": "markdown",
   "id": "59fe0b0f",
   "metadata": {},
   "source": [
    "---\n",
    "here is how **sorting** could be possible in the pandas:\n"
   ]
  },
  {
   "cell_type": "code",
   "execution_count": 43,
   "id": "0e07d64d",
   "metadata": {},
   "outputs": [
    {
     "data": {
      "text/plain": [
       "jym       6\n",
       "kim       9\n",
       "panam    18\n",
       "pam      19\n",
       "sam      20\n",
       "Name: score table, dtype: int64"
      ]
     },
     "execution_count": 43,
     "metadata": {},
     "output_type": "execute_result"
    }
   ],
   "source": [
    "scores.sort_values()"
   ]
  },
  {
   "cell_type": "code",
   "execution_count": 45,
   "id": "a2c5e3c4",
   "metadata": {},
   "outputs": [
    {
     "data": {
      "text/plain": [
       "sam      20\n",
       "pam      19\n",
       "panam    18\n",
       "jym       6\n",
       "kim       9\n",
       "Name: score table, dtype: int64"
      ]
     },
     "execution_count": 45,
     "metadata": {},
     "output_type": "execute_result"
    }
   ],
   "source": [
    "scores"
   ]
  },
  {
   "cell_type": "code",
   "execution_count": 49,
   "id": "8b7cb582",
   "metadata": {},
   "outputs": [
    {
     "data": {
      "text/plain": [
       "sam      20\n",
       "pam      19\n",
       "panam    18\n",
       "kim       9\n",
       "jym       6\n",
       "Name: score table, dtype: int64"
      ]
     },
     "execution_count": 49,
     "metadata": {},
     "output_type": "execute_result"
    }
   ],
   "source": [
    "scores.sort_values(ascending=False)"
   ]
  },
  {
   "cell_type": "markdown",
   "id": "93ba7390",
   "metadata": {},
   "source": [
    "there is also another method related to sorting, which is **rank()** that indicates the rank of a value in the sorted column:"
   ]
  },
  {
   "cell_type": "code",
   "execution_count": 50,
   "id": "7269d5de",
   "metadata": {},
   "outputs": [
    {
     "data": {
      "text/plain": [
       "sam      5.0\n",
       "pam      4.0\n",
       "panam    3.0\n",
       "jym      1.0\n",
       "kim      2.0\n",
       "Name: score table, dtype: float64"
      ]
     },
     "execution_count": 50,
     "metadata": {},
     "output_type": "execute_result"
    }
   ],
   "source": [
    "scores.rank()"
   ]
  },
  {
   "cell_type": "markdown",
   "id": "2c7b0449",
   "metadata": {},
   "source": [
    "---\n",
    "should all the indexs be unique? the answer is no, there is no limits around usnig unique indexs. checkout this example:"
   ]
  },
  {
   "cell_type": "code",
   "execution_count": 52,
   "id": "afd890e2",
   "metadata": {},
   "outputs": [
    {
     "data": {
      "text/plain": [
       "ronaldo    19\n",
       "messi      20\n",
       "ronaldo    18\n",
       "mbape      17\n",
       "dtype: int64"
      ]
     },
     "execution_count": 52,
     "metadata": {},
     "output_type": "execute_result"
    }
   ],
   "source": [
    "best_players = pd.Series([19, 20, 18, 17], index=['ronaldo', 'messi', 'ronaldo', 'mbape'])\n",
    "best_players"
   ]
  },
  {
   "cell_type": "markdown",
   "id": "7c7ff10e",
   "metadata": {},
   "source": [
    "and if an index with more than one values is called, all would be called:"
   ]
  },
  {
   "cell_type": "code",
   "execution_count": 53,
   "id": "7b872f5c",
   "metadata": {},
   "outputs": [
    {
     "data": {
      "text/plain": [
       "ronaldo    19\n",
       "ronaldo    18\n",
       "dtype: int64"
      ]
     },
     "execution_count": 53,
     "metadata": {},
     "output_type": "execute_result"
    }
   ],
   "source": [
    "best_players['ronaldo']"
   ]
  },
  {
   "cell_type": "markdown",
   "id": "1fc5af1a",
   "metadata": {},
   "source": [
    "there is also a function named **is_unique**, which works like below:"
   ]
  },
  {
   "cell_type": "code",
   "execution_count": 55,
   "id": "07e6c752",
   "metadata": {},
   "outputs": [
    {
     "data": {
      "text/plain": [
       "False"
      ]
     },
     "execution_count": 55,
     "metadata": {},
     "output_type": "execute_result"
    }
   ],
   "source": [
    "best_players.index.is_unique"
   ]
  },
  {
   "cell_type": "markdown",
   "id": "07bced34",
   "metadata": {},
   "source": [
    "---\n",
    "if statics of a Serie is required, then the function **describe()** could come in handy!"
   ]
  },
  {
   "cell_type": "code",
   "execution_count": 57,
   "id": "39ae19cf",
   "metadata": {},
   "outputs": [
    {
     "data": {
      "text/plain": [
       "count     5.000000\n",
       "mean     14.400000\n",
       "std       6.426508\n",
       "min       6.000000\n",
       "25%       9.000000\n",
       "50%      18.000000\n",
       "75%      19.000000\n",
       "max      20.000000\n",
       "Name: score table, dtype: float64"
      ]
     },
     "execution_count": 57,
     "metadata": {},
     "output_type": "execute_result"
    }
   ],
   "source": [
    "scores.describe()"
   ]
  }
 ],
 "metadata": {
  "kernelspec": {
   "display_name": "Python 3 (ipykernel)",
   "language": "python",
   "name": "python3"
  },
  "language_info": {
   "codemirror_mode": {
    "name": "ipython",
    "version": 3
   },
   "file_extension": ".py",
   "mimetype": "text/x-python",
   "name": "python",
   "nbconvert_exporter": "python",
   "pygments_lexer": "ipython3",
   "version": "3.11.2"
  }
 },
 "nbformat": 4,
 "nbformat_minor": 5
}
