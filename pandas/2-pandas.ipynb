{
 "cells": [
  {
   "cell_type": "markdown",
   "id": "e9c9ce38-04a9-4315-a211-ffb24dc067f1",
   "metadata": {},
   "source": [
    "# Pandas toturial part 2"
   ]
  },
  {
   "cell_type": "markdown",
   "id": "579d368b-43c3-4e3b-b9ab-0579112a9472",
   "metadata": {},
   "source": [
    "what is going to be discussed is selecting specific values of a pandas DataFrame to work on."
   ]
  },
  {
   "cell_type": "markdown",
   "id": "ab5d3b29-1bc8-4bb4-88d6-9802d30baf24",
   "metadata": {},
   "source": [
    "#### What is an accessors?\n",
    "As it interoduce itself, it gives access; when a class has an accessor, it allows to the private members be accessible on other scopes. the most simple examole of an accessor function could be the 'getter' and 'setter' of a function. These below are a few sample of accessors: "
   ]
  },
  {
   "cell_type": "code",
   "execution_count": 4,
   "id": "e8bfac49-cfdf-499a-9ad5-ac12beca7df9",
   "metadata": {},
   "outputs": [
    {
     "name": "stdout",
     "output_type": "stream",
     "text": [
      "4\n",
      "2\n",
      "array('i', [5, 1, 3, 4, 2, 2, 7, 19])\n"
     ]
    }
   ],
   "source": [
    "import array \n",
    "     \n",
    "arr = array.array('i', [5, 1, 3, 4, 2, 2, 7])\n",
    " \n",
    "# Accesses the index of the value in argument\n",
    "print (arr.index(2))\n",
    " \n",
    "# Accesses the number of time the\n",
    "# stated value is present\n",
    "print (arr.count(2))\n",
    " \n",
    "# Mutates the array list\n",
    "(arr.append(19))\n",
    " \n",
    "# Prints the array after alteration\n",
    "print (arr)"
   ]
  },
  {
   "cell_type": "markdown",
   "id": "222818f0-7f00-4ba3-aa0e-c7d6678453d2",
   "metadata": {},
   "source": [
    "To learn more about the accessors, [read here](https://www.geeksforgeeks.org/accessor-and-mutator-methods-in-python/).\n"
   ]
  },
  {
   "cell_type": "markdown",
   "id": "e2b8280f-29ed-4f3d-8921-55212861ccaa",
   "metadata": {},
   "source": [
    "---"
   ]
  },
  {
   "cell_type": "markdown",
   "id": "2ae13dd6-1af7-47cf-ba63-e6777f6ea59b",
   "metadata": {},
   "source": [
    "Native Python objects provide good ways of indexing data. Pandas carries all of these over.\n",
    "here is how to Access an Attribute of a **class** Instance:\n",
    "Use the dot notation (.):"
   ]
  },
  {
   "cell_type": "code",
   "execution_count": 5,
   "id": "9ae255f6-a9fe-4cba-a1db-d0395b6fd6fa",
   "metadata": {},
   "outputs": [
    {
     "data": {
      "text/plain": [
       "<__main__.Book at 0x1e1a1109950>"
      ]
     },
     "execution_count": 5,
     "metadata": {},
     "output_type": "execute_result"
    }
   ],
   "source": [
    "class Book:\n",
    "    def __init__(self, title, author):\n",
    "        self.title = title    # instance attribute\n",
    "        self.author = author  # instance attribute\n",
    "\n",
    "    def get_info(self):\n",
    "        return f\"'{self.title}' by {self.author}\"\n",
    "\n",
    "\n",
    "my_book = Book(\"1984\", \"George Orwell\")\n",
    "my_book"
   ]
  },
  {
   "cell_type": "code",
   "execution_count": 6,
   "id": "dfec81c1-d93e-4170-96c1-d7a106d2da0a",
   "metadata": {},
   "outputs": [
    {
     "data": {
      "text/plain": [
       "'1984'"
      ]
     },
     "execution_count": 6,
     "metadata": {},
     "output_type": "execute_result"
    }
   ],
   "source": [
    "my_book.title"
   ]
  },
  {
   "cell_type": "code",
   "execution_count": 7,
   "id": "11fc51a2-136f-4be0-890f-3197e9026955",
   "metadata": {},
   "outputs": [
    {
     "data": {
      "text/plain": [
       "'George Orwell'"
      ]
     },
     "execution_count": 7,
     "metadata": {},
     "output_type": "execute_result"
    }
   ],
   "source": [
    "my_book.author"
   ]
  },
  {
   "cell_type": "markdown",
   "id": "0403d190-42f8-40a4-9ea9-9797a2cb2d88",
   "metadata": {},
   "source": [
    "and here is a sample of accessing a Value in a Dictionary:\n",
    "Use the bracket notation with a key (\\['key']):"
   ]
  },
  {
   "cell_type": "code",
   "execution_count": 8,
   "id": "172f82c6-b449-47c0-aed3-b4388fd23d75",
   "metadata": {},
   "outputs": [
    {
     "data": {
      "text/plain": [
       "{'title': '1984', 'author': 'George Orwell', 'year': 1949}"
      ]
     },
     "execution_count": 8,
     "metadata": {},
     "output_type": "execute_result"
    }
   ],
   "source": [
    "# my_book['title']\n",
    "my_book = {\n",
    "    'title': '1984',\n",
    "    'author': 'George Orwell',\n",
    "    'year': 1949\n",
    "}\n",
    "\n",
    "my_book"
   ]
  },
  {
   "cell_type": "code",
   "execution_count": 9,
   "id": "cca42ba0-08c0-4139-876c-5983e8d0dad7",
   "metadata": {},
   "outputs": [
    {
     "data": {
      "text/plain": [
       "'1984'"
      ]
     },
     "execution_count": 9,
     "metadata": {},
     "output_type": "execute_result"
    }
   ],
   "source": [
    "my_book['title']"
   ]
  },
  {
   "cell_type": "code",
   "execution_count": 10,
   "id": "e232965b-9d41-421c-bd38-2c1dc2638a64",
   "metadata": {},
   "outputs": [
    {
     "data": {
      "text/plain": [
       "'George Orwell'"
      ]
     },
     "execution_count": 10,
     "metadata": {},
     "output_type": "execute_result"
    }
   ],
   "source": [
    "my_book['author']"
   ]
  },
  {
   "cell_type": "markdown",
   "id": "076e318e-d6d1-46af-8cf8-a5a37f788b2f",
   "metadata": {},
   "source": [
    "---\n",
    "Now, what does python accessors have to do with **pandas**? \n",
    "the answer is here: the dataFrames uses the dame way:"
   ]
  },
  {
   "cell_type": "code",
   "execution_count": 11,
   "id": "f5315079-0682-4a89-8fe1-80493de9a79a",
   "metadata": {},
   "outputs": [
    {
     "data": {
      "text/html": [
       "<div>\n",
       "<style scoped>\n",
       "    .dataframe tbody tr th:only-of-type {\n",
       "        vertical-align: middle;\n",
       "    }\n",
       "\n",
       "    .dataframe tbody tr th {\n",
       "        vertical-align: top;\n",
       "    }\n",
       "\n",
       "    .dataframe thead th {\n",
       "        text-align: right;\n",
       "    }\n",
       "</style>\n",
       "<table border=\"1\" class=\"dataframe\">\n",
       "  <thead>\n",
       "    <tr style=\"text-align: right;\">\n",
       "      <th></th>\n",
       "      <th>scores</th>\n",
       "      <th>students</th>\n",
       "    </tr>\n",
       "  </thead>\n",
       "  <tbody>\n",
       "    <tr>\n",
       "      <th>rank1</th>\n",
       "      <td>20</td>\n",
       "      <td>sam</td>\n",
       "    </tr>\n",
       "    <tr>\n",
       "      <th>rank2</th>\n",
       "      <td>19</td>\n",
       "      <td>pam</td>\n",
       "    </tr>\n",
       "    <tr>\n",
       "      <th>rank3</th>\n",
       "      <td>18</td>\n",
       "      <td>jym</td>\n",
       "    </tr>\n",
       "    <tr>\n",
       "      <th>rank4</th>\n",
       "      <td>17</td>\n",
       "      <td>kim</td>\n",
       "    </tr>\n",
       "  </tbody>\n",
       "</table>\n",
       "</div>"
      ],
      "text/plain": [
       "       scores students\n",
       "rank1      20      sam\n",
       "rank2      19      pam\n",
       "rank3      18      jym\n",
       "rank4      17      kim"
      ]
     },
     "execution_count": 11,
     "metadata": {},
     "output_type": "execute_result"
    }
   ],
   "source": [
    "import pandas as pd\n",
    "arr = pd.DataFrame({'scores': [20, 19, 18, 17], 'students': ['sam', 'pam', 'jym', 'kim']}, index=['rank1', 'rank2', 'rank3', 'rank4'])\n",
    "arr"
   ]
  },
  {
   "cell_type": "markdown",
   "id": "864f92c8-8df8-4e40-96e0-fc1d267efa92",
   "metadata": {},
   "source": [
    "now let's see how to access the values:\n",
    "both ways of using (.) and ([]) are avialble here!"
   ]
  },
  {
   "cell_type": "code",
   "execution_count": 12,
   "id": "77ce1e87-f062-453b-b4be-3ddd54525581",
   "metadata": {},
   "outputs": [
    {
     "data": {
      "text/plain": [
       "rank1    20\n",
       "rank2    19\n",
       "rank3    18\n",
       "rank4    17\n",
       "Name: scores, dtype: int64"
      ]
     },
     "execution_count": 12,
     "metadata": {},
     "output_type": "execute_result"
    }
   ],
   "source": [
    "arr.scores"
   ]
  },
  {
   "cell_type": "code",
   "execution_count": 13,
   "id": "614d6500-cc9b-41e4-87dc-c8b987f0b5f3",
   "metadata": {},
   "outputs": [
    {
     "data": {
      "text/plain": [
       "rank1    20\n",
       "rank2    19\n",
       "rank3    18\n",
       "rank4    17\n",
       "Name: scores, dtype: int64"
      ]
     },
     "execution_count": 13,
     "metadata": {},
     "output_type": "execute_result"
    }
   ],
   "source": [
    "arr['scores']"
   ]
  },
  {
   "cell_type": "markdown",
   "id": "4d0bb708-353a-4835-b410-5bb0e363b2c5",
   "metadata": {},
   "source": [
    "here is another fun usage of the ([]) notation: accessing a single value, using the second ([]) notation that indicates the row number."
   ]
  },
  {
   "cell_type": "code",
   "execution_count": 14,
   "id": "b47dd9aa-3f96-4937-b1d4-4300f97b7858",
   "metadata": {},
   "outputs": [
    {
     "data": {
      "text/plain": [
       "18"
      ]
     },
     "execution_count": 14,
     "metadata": {},
     "output_type": "execute_result"
    }
   ],
   "source": [
    "arr['scores']['rank3']"
   ]
  },
  {
   "cell_type": "markdown",
   "id": "a8b9d33c-1bfc-476b-a5d3-b820c390efca",
   "metadata": {},
   "source": [
    "this is another way to relate the DataFrames in pandas and simple dictionries in python: "
   ]
  },
  {
   "cell_type": "code",
   "execution_count": 15,
   "id": "d125bc93-8295-42c1-9de6-d51b5e2d42a3",
   "metadata": {},
   "outputs": [
    {
     "data": {
      "text/html": [
       "<div>\n",
       "<style scoped>\n",
       "    .dataframe tbody tr th:only-of-type {\n",
       "        vertical-align: middle;\n",
       "    }\n",
       "\n",
       "    .dataframe tbody tr th {\n",
       "        vertical-align: top;\n",
       "    }\n",
       "\n",
       "    .dataframe thead th {\n",
       "        text-align: right;\n",
       "    }\n",
       "</style>\n",
       "<table border=\"1\" class=\"dataframe\">\n",
       "  <thead>\n",
       "    <tr style=\"text-align: right;\">\n",
       "      <th></th>\n",
       "      <th>scores</th>\n",
       "      <th>students</th>\n",
       "      <th>last Name</th>\n",
       "    </tr>\n",
       "  </thead>\n",
       "  <tbody>\n",
       "    <tr>\n",
       "      <th>rank1</th>\n",
       "      <td>20</td>\n",
       "      <td>sam</td>\n",
       "      <td>do</td>\n",
       "    </tr>\n",
       "    <tr>\n",
       "      <th>rank2</th>\n",
       "      <td>19</td>\n",
       "      <td>pam</td>\n",
       "      <td>re</td>\n",
       "    </tr>\n",
       "    <tr>\n",
       "      <th>rank3</th>\n",
       "      <td>18</td>\n",
       "      <td>jym</td>\n",
       "      <td>fa</td>\n",
       "    </tr>\n",
       "    <tr>\n",
       "      <th>rank4</th>\n",
       "      <td>17</td>\n",
       "      <td>kim</td>\n",
       "      <td>sol</td>\n",
       "    </tr>\n",
       "  </tbody>\n",
       "</table>\n",
       "</div>"
      ],
      "text/plain": [
       "       scores students last Name\n",
       "rank1      20      sam        do\n",
       "rank2      19      pam        re\n",
       "rank3      18      jym        fa\n",
       "rank4      17      kim       sol"
      ]
     },
     "execution_count": 15,
     "metadata": {},
     "output_type": "execute_result"
    }
   ],
   "source": [
    "my_dict = {\n",
    "    'scores': [20, 19, 18, 17],\n",
    "    'students': ['sam', 'pam', 'jym', 'kim'],\n",
    "    'last Name': ['do', 're', 'fa', 'sol']\n",
    "}\n",
    "\n",
    "table = pd.DataFrame(my_dict, index=['rank1', 'rank2', 'rank3', 'rank4'])\n",
    "table"
   ]
  },
  {
   "cell_type": "markdown",
   "id": "9794d535-6e08-452c-b53c-8ba6639cd949",
   "metadata": {},
   "source": [
    "here is a fun fact that shows a benefit of using ([]) rather that the (.): consider the last name that has an space (considerd as an special character). now the approach \\['last Name'] is possible, but the .last Name is not possible! "
   ]
  },
  {
   "cell_type": "code",
   "execution_count": 16,
   "id": "40692b01-efb5-4172-9a72-e810031b1c8b",
   "metadata": {},
   "outputs": [
    {
     "data": {
      "text/plain": [
       "rank1     do\n",
       "rank2     re\n",
       "rank3     fa\n",
       "rank4    sol\n",
       "Name: last Name, dtype: object"
      ]
     },
     "execution_count": 16,
     "metadata": {},
     "output_type": "execute_result"
    }
   ],
   "source": [
    "table['last Name']"
   ]
  },
  {
   "cell_type": "markdown",
   "id": "9096ccd1-d349-4fb3-ba5c-9e3b0e189a7b",
   "metadata": {},
   "source": [
    "---"
   ]
  },
  {
   "cell_type": "markdown",
   "id": "c21fc1be-dbda-4b9a-af2c-0f3d90748ec6",
   "metadata": {},
   "source": [
    "### Indexing in pandas\n",
    "pandas has its own accessor operators, *loc* (label-based selection) and *iloc* (index-based selection).\n",
    "#### iloc:\n",
    "the magicall indexes inside the braces, what are they? here is the format:\n",
    "\n",
    "**\\[start row: finish row: row count++ , start column: finish column, coulumn count++]**"
   ]
  },
  {
   "cell_type": "code",
   "execution_count": 17,
   "id": "362d15db-1d85-4b98-8ad5-4cd04c7a0a27",
   "metadata": {},
   "outputs": [
    {
     "data": {
      "text/plain": [
       "scores        20\n",
       "students     sam\n",
       "last Name     do\n",
       "Name: rank1, dtype: object"
      ]
     },
     "execution_count": 17,
     "metadata": {},
     "output_type": "execute_result"
    }
   ],
   "source": [
    "table.iloc[0]"
   ]
  },
  {
   "cell_type": "code",
   "execution_count": 18,
   "id": "26e9cfda-298e-4a2b-bd53-a4dbe94aab63",
   "metadata": {},
   "outputs": [
    {
     "data": {
      "text/html": [
       "<div>\n",
       "<style scoped>\n",
       "    .dataframe tbody tr th:only-of-type {\n",
       "        vertical-align: middle;\n",
       "    }\n",
       "\n",
       "    .dataframe tbody tr th {\n",
       "        vertical-align: top;\n",
       "    }\n",
       "\n",
       "    .dataframe thead th {\n",
       "        text-align: right;\n",
       "    }\n",
       "</style>\n",
       "<table border=\"1\" class=\"dataframe\">\n",
       "  <thead>\n",
       "    <tr style=\"text-align: right;\">\n",
       "      <th></th>\n",
       "      <th>scores</th>\n",
       "      <th>students</th>\n",
       "      <th>last Name</th>\n",
       "    </tr>\n",
       "  </thead>\n",
       "  <tbody>\n",
       "    <tr>\n",
       "      <th>rank1</th>\n",
       "      <td>20</td>\n",
       "      <td>sam</td>\n",
       "      <td>do</td>\n",
       "    </tr>\n",
       "    <tr>\n",
       "      <th>rank2</th>\n",
       "      <td>19</td>\n",
       "      <td>pam</td>\n",
       "      <td>re</td>\n",
       "    </tr>\n",
       "  </tbody>\n",
       "</table>\n",
       "</div>"
      ],
      "text/plain": [
       "       scores students last Name\n",
       "rank1      20      sam        do\n",
       "rank2      19      pam        re"
      ]
     },
     "execution_count": 18,
     "metadata": {},
     "output_type": "execute_result"
    }
   ],
   "source": [
    "table.iloc[0:2]"
   ]
  },
  {
   "cell_type": "code",
   "execution_count": 19,
   "id": "13f72362-b04c-453b-842b-3395f0796ab2",
   "metadata": {},
   "outputs": [
    {
     "data": {
      "text/html": [
       "<div>\n",
       "<style scoped>\n",
       "    .dataframe tbody tr th:only-of-type {\n",
       "        vertical-align: middle;\n",
       "    }\n",
       "\n",
       "    .dataframe tbody tr th {\n",
       "        vertical-align: top;\n",
       "    }\n",
       "\n",
       "    .dataframe thead th {\n",
       "        text-align: right;\n",
       "    }\n",
       "</style>\n",
       "<table border=\"1\" class=\"dataframe\">\n",
       "  <thead>\n",
       "    <tr style=\"text-align: right;\">\n",
       "      <th></th>\n",
       "      <th>scores</th>\n",
       "      <th>students</th>\n",
       "      <th>last Name</th>\n",
       "    </tr>\n",
       "  </thead>\n",
       "  <tbody>\n",
       "    <tr>\n",
       "      <th>rank1</th>\n",
       "      <td>20</td>\n",
       "      <td>sam</td>\n",
       "      <td>do</td>\n",
       "    </tr>\n",
       "    <tr>\n",
       "      <th>rank3</th>\n",
       "      <td>18</td>\n",
       "      <td>jym</td>\n",
       "      <td>fa</td>\n",
       "    </tr>\n",
       "  </tbody>\n",
       "</table>\n",
       "</div>"
      ],
      "text/plain": [
       "       scores students last Name\n",
       "rank1      20      sam        do\n",
       "rank3      18      jym        fa"
      ]
     },
     "execution_count": 19,
     "metadata": {},
     "output_type": "execute_result"
    }
   ],
   "source": [
    "table.iloc[0:3:2]"
   ]
  },
  {
   "cell_type": "code",
   "execution_count": 20,
   "id": "906328ee-0197-409e-9a75-e48940d0eb02",
   "metadata": {},
   "outputs": [
    {
     "data": {
      "text/plain": [
       "rank1    20\n",
       "rank2    19\n",
       "rank3    18\n",
       "Name: scores, dtype: int64"
      ]
     },
     "execution_count": 20,
     "metadata": {},
     "output_type": "execute_result"
    }
   ],
   "source": [
    "table.iloc[0:3, 0]"
   ]
  },
  {
   "cell_type": "code",
   "execution_count": 21,
   "id": "879781c2-566d-4ae0-bb5b-4160af0b67b4",
   "metadata": {},
   "outputs": [
    {
     "data": {
      "text/plain": [
       "rank1    sam\n",
       "rank2    pam\n",
       "rank3    jym\n",
       "Name: students, dtype: object"
      ]
     },
     "execution_count": 21,
     "metadata": {},
     "output_type": "execute_result"
    }
   ],
   "source": [
    "table.iloc[0:3, 1]"
   ]
  },
  {
   "cell_type": "code",
   "execution_count": 22,
   "id": "afa836eb-cf7d-4b23-bdae-27eac08560bb",
   "metadata": {},
   "outputs": [
    {
     "data": {
      "text/html": [
       "<div>\n",
       "<style scoped>\n",
       "    .dataframe tbody tr th:only-of-type {\n",
       "        vertical-align: middle;\n",
       "    }\n",
       "\n",
       "    .dataframe tbody tr th {\n",
       "        vertical-align: top;\n",
       "    }\n",
       "\n",
       "    .dataframe thead th {\n",
       "        text-align: right;\n",
       "    }\n",
       "</style>\n",
       "<table border=\"1\" class=\"dataframe\">\n",
       "  <thead>\n",
       "    <tr style=\"text-align: right;\">\n",
       "      <th></th>\n",
       "      <th>scores</th>\n",
       "      <th>students</th>\n",
       "    </tr>\n",
       "  </thead>\n",
       "  <tbody>\n",
       "    <tr>\n",
       "      <th>rank1</th>\n",
       "      <td>20</td>\n",
       "      <td>sam</td>\n",
       "    </tr>\n",
       "    <tr>\n",
       "      <th>rank2</th>\n",
       "      <td>19</td>\n",
       "      <td>pam</td>\n",
       "    </tr>\n",
       "    <tr>\n",
       "      <th>rank3</th>\n",
       "      <td>18</td>\n",
       "      <td>jym</td>\n",
       "    </tr>\n",
       "  </tbody>\n",
       "</table>\n",
       "</div>"
      ],
      "text/plain": [
       "       scores students\n",
       "rank1      20      sam\n",
       "rank2      19      pam\n",
       "rank3      18      jym"
      ]
     },
     "execution_count": 22,
     "metadata": {},
     "output_type": "execute_result"
    }
   ],
   "source": [
    "table.iloc[0:3, 0:2]"
   ]
  },
  {
   "cell_type": "code",
   "execution_count": 23,
   "id": "075db4db-09ca-46ff-8ce4-05a4185c7d3c",
   "metadata": {},
   "outputs": [
    {
     "data": {
      "text/html": [
       "<div>\n",
       "<style scoped>\n",
       "    .dataframe tbody tr th:only-of-type {\n",
       "        vertical-align: middle;\n",
       "    }\n",
       "\n",
       "    .dataframe tbody tr th {\n",
       "        vertical-align: top;\n",
       "    }\n",
       "\n",
       "    .dataframe thead th {\n",
       "        text-align: right;\n",
       "    }\n",
       "</style>\n",
       "<table border=\"1\" class=\"dataframe\">\n",
       "  <thead>\n",
       "    <tr style=\"text-align: right;\">\n",
       "      <th></th>\n",
       "      <th>scores</th>\n",
       "      <th>students</th>\n",
       "      <th>last Name</th>\n",
       "    </tr>\n",
       "  </thead>\n",
       "  <tbody>\n",
       "    <tr>\n",
       "      <th>rank1</th>\n",
       "      <td>20</td>\n",
       "      <td>sam</td>\n",
       "      <td>do</td>\n",
       "    </tr>\n",
       "    <tr>\n",
       "      <th>rank2</th>\n",
       "      <td>19</td>\n",
       "      <td>pam</td>\n",
       "      <td>re</td>\n",
       "    </tr>\n",
       "    <tr>\n",
       "      <th>rank3</th>\n",
       "      <td>18</td>\n",
       "      <td>jym</td>\n",
       "      <td>fa</td>\n",
       "    </tr>\n",
       "  </tbody>\n",
       "</table>\n",
       "</div>"
      ],
      "text/plain": [
       "       scores students last Name\n",
       "rank1      20      sam        do\n",
       "rank2      19      pam        re\n",
       "rank3      18      jym        fa"
      ]
     },
     "execution_count": 23,
     "metadata": {},
     "output_type": "execute_result"
    }
   ],
   "source": [
    "table.iloc[0:3, 0:3]"
   ]
  },
  {
   "cell_type": "code",
   "execution_count": 24,
   "id": "64caa5b9-fd41-4d90-a2f2-b64ae3fa7069",
   "metadata": {},
   "outputs": [
    {
     "data": {
      "text/html": [
       "<div>\n",
       "<style scoped>\n",
       "    .dataframe tbody tr th:only-of-type {\n",
       "        vertical-align: middle;\n",
       "    }\n",
       "\n",
       "    .dataframe tbody tr th {\n",
       "        vertical-align: top;\n",
       "    }\n",
       "\n",
       "    .dataframe thead th {\n",
       "        text-align: right;\n",
       "    }\n",
       "</style>\n",
       "<table border=\"1\" class=\"dataframe\">\n",
       "  <thead>\n",
       "    <tr style=\"text-align: right;\">\n",
       "      <th></th>\n",
       "      <th>scores</th>\n",
       "      <th>students</th>\n",
       "      <th>last Name</th>\n",
       "    </tr>\n",
       "  </thead>\n",
       "  <tbody>\n",
       "    <tr>\n",
       "      <th>rank1</th>\n",
       "      <td>20</td>\n",
       "      <td>sam</td>\n",
       "      <td>do</td>\n",
       "    </tr>\n",
       "    <tr>\n",
       "      <th>rank2</th>\n",
       "      <td>19</td>\n",
       "      <td>pam</td>\n",
       "      <td>re</td>\n",
       "    </tr>\n",
       "    <tr>\n",
       "      <th>rank3</th>\n",
       "      <td>18</td>\n",
       "      <td>jym</td>\n",
       "      <td>fa</td>\n",
       "    </tr>\n",
       "    <tr>\n",
       "      <th>rank4</th>\n",
       "      <td>17</td>\n",
       "      <td>kim</td>\n",
       "      <td>sol</td>\n",
       "    </tr>\n",
       "  </tbody>\n",
       "</table>\n",
       "</div>"
      ],
      "text/plain": [
       "       scores students last Name\n",
       "rank1      20      sam        do\n",
       "rank2      19      pam        re\n",
       "rank3      18      jym        fa\n",
       "rank4      17      kim       sol"
      ]
     },
     "execution_count": 24,
     "metadata": {},
     "output_type": "execute_result"
    }
   ],
   "source": [
    "table"
   ]
  },
  {
   "cell_type": "markdown",
   "id": "b0fbd9e9-d1ff-49d1-9168-c6d5da5bb0cb",
   "metadata": {},
   "source": [
    "could also be more creative about this indexing! like passing a list to indexes like below:"
   ]
  },
  {
   "cell_type": "code",
   "execution_count": 25,
   "id": "fcdb6474-1b72-4f0e-8462-e1a9fb51f1d4",
   "metadata": {},
   "outputs": [
    {
     "data": {
      "text/html": [
       "<div>\n",
       "<style scoped>\n",
       "    .dataframe tbody tr th:only-of-type {\n",
       "        vertical-align: middle;\n",
       "    }\n",
       "\n",
       "    .dataframe tbody tr th {\n",
       "        vertical-align: top;\n",
       "    }\n",
       "\n",
       "    .dataframe thead th {\n",
       "        text-align: right;\n",
       "    }\n",
       "</style>\n",
       "<table border=\"1\" class=\"dataframe\">\n",
       "  <thead>\n",
       "    <tr style=\"text-align: right;\">\n",
       "      <th></th>\n",
       "      <th>scores</th>\n",
       "      <th>last Name</th>\n",
       "    </tr>\n",
       "  </thead>\n",
       "  <tbody>\n",
       "    <tr>\n",
       "      <th>rank1</th>\n",
       "      <td>20</td>\n",
       "      <td>do</td>\n",
       "    </tr>\n",
       "    <tr>\n",
       "      <th>rank2</th>\n",
       "      <td>19</td>\n",
       "      <td>re</td>\n",
       "    </tr>\n",
       "    <tr>\n",
       "      <th>rank4</th>\n",
       "      <td>17</td>\n",
       "      <td>sol</td>\n",
       "    </tr>\n",
       "  </tbody>\n",
       "</table>\n",
       "</div>"
      ],
      "text/plain": [
       "       scores last Name\n",
       "rank1      20        do\n",
       "rank2      19        re\n",
       "rank4      17       sol"
      ]
     },
     "execution_count": 25,
     "metadata": {},
     "output_type": "execute_result"
    }
   ],
   "source": [
    "table.iloc[[0, 1, 3], [0, 2]]"
   ]
  },
  {
   "cell_type": "markdown",
   "id": "6ffcc82c-add6-46ec-9f05-67de9faa9709",
   "metadata": {},
   "source": [
    "what about negative numbers? should they scare us? No, they act like positive numbers, but starting from the **end** of the list!"
   ]
  },
  {
   "cell_type": "code",
   "execution_count": 26,
   "id": "be3b71c1-edc8-434c-9a40-60eb7ce7dc90",
   "metadata": {},
   "outputs": [
    {
     "data": {
      "text/html": [
       "<div>\n",
       "<style scoped>\n",
       "    .dataframe tbody tr th:only-of-type {\n",
       "        vertical-align: middle;\n",
       "    }\n",
       "\n",
       "    .dataframe tbody tr th {\n",
       "        vertical-align: top;\n",
       "    }\n",
       "\n",
       "    .dataframe thead th {\n",
       "        text-align: right;\n",
       "    }\n",
       "</style>\n",
       "<table border=\"1\" class=\"dataframe\">\n",
       "  <thead>\n",
       "    <tr style=\"text-align: right;\">\n",
       "      <th></th>\n",
       "      <th>scores</th>\n",
       "      <th>students</th>\n",
       "      <th>last Name</th>\n",
       "    </tr>\n",
       "  </thead>\n",
       "  <tbody>\n",
       "    <tr>\n",
       "      <th>rank2</th>\n",
       "      <td>19</td>\n",
       "      <td>pam</td>\n",
       "      <td>re</td>\n",
       "    </tr>\n",
       "    <tr>\n",
       "      <th>rank3</th>\n",
       "      <td>18</td>\n",
       "      <td>jym</td>\n",
       "      <td>fa</td>\n",
       "    </tr>\n",
       "    <tr>\n",
       "      <th>rank4</th>\n",
       "      <td>17</td>\n",
       "      <td>kim</td>\n",
       "      <td>sol</td>\n",
       "    </tr>\n",
       "  </tbody>\n",
       "</table>\n",
       "</div>"
      ],
      "text/plain": [
       "       scores students last Name\n",
       "rank2      19      pam        re\n",
       "rank3      18      jym        fa\n",
       "rank4      17      kim       sol"
      ]
     },
     "execution_count": 26,
     "metadata": {},
     "output_type": "execute_result"
    }
   ],
   "source": [
    "table.iloc[-3:]"
   ]
  },
  {
   "cell_type": "markdown",
   "id": "b0fc56ee-cc26-45b1-8b5a-2edfcebdd607",
   "metadata": {},
   "source": [
    "#### loc: \n",
    "\n",
    "uses lables to iterate between defferent indexes."
   ]
  },
  {
   "cell_type": "code",
   "execution_count": 27,
   "id": "5c95d031-4d26-41a9-be54-40bcefff0e91",
   "metadata": {},
   "outputs": [
    {
     "data": {
      "text/plain": [
       "'sam'"
      ]
     },
     "execution_count": 27,
     "metadata": {},
     "output_type": "execute_result"
    }
   ],
   "source": [
    "table.loc['rank1', 'students']"
   ]
  },
  {
   "cell_type": "markdown",
   "id": "79f14604-a703-4ec9-81f1-956dcd37d69a",
   "metadata": {},
   "source": [
    "here is sth that might confuse you. the code like below:\n",
    "```python\n",
    "table.loc [0, 'students']\n",
    "```\n",
    "rises key error. why? becuase at the very time of the creation of that table, we manipulate the index as:\n",
    "```python\n",
    "index=['rank1', 'rank2', 'rank3', 'rank4'])\n",
    "```\n",
    "som the first index which is the row number, must now be a lable!\n",
    "\n",
    "to make sure of understanding this consept, let's make a new dataframe:"
   ]
  },
  {
   "cell_type": "code",
   "execution_count": 28,
   "id": "bc941ee5-6ca3-471f-902f-46ddd0b81c35",
   "metadata": {},
   "outputs": [
    {
     "data": {
      "text/plain": [
       "'do'"
      ]
     },
     "execution_count": 28,
     "metadata": {},
     "output_type": "execute_result"
    }
   ],
   "source": [
    "new_table = pd.DataFrame({'notes': [0, 1, 2, 3], 'french':['do', 're', 'mi', 'fa']})\n",
    "new_table.loc[0, 'french']"
   ]
  },
  {
   "cell_type": "markdown",
   "id": "26dfe194-fee8-4c16-93f1-186b9837b909",
   "metadata": {},
   "source": [
    "as it is shown above, there will not be any problem accessing the row number by its number, with **loc**, but we have to be carefull about the fact that changing the index of the DataFrame index might effect on accessing its attrebutes."
   ]
  },
  {
   "cell_type": "code",
   "execution_count": 29,
   "id": "c51756f9-cec2-44d4-b6e4-02a07f7b6aa9",
   "metadata": {},
   "outputs": [
    {
     "data": {
      "text/plain": [
       "scores       20\n",
       "students    sam\n",
       "Name: rank1, dtype: object"
      ]
     },
     "execution_count": 29,
     "metadata": {},
     "output_type": "execute_result"
    }
   ],
   "source": [
    "table.loc['rank1', ['scores', 'students']]"
   ]
  },
  {
   "cell_type": "code",
   "execution_count": 30,
   "id": "b269391d-1e27-4736-956d-a28f04c42675",
   "metadata": {},
   "outputs": [
    {
     "data": {
      "text/html": [
       "<div>\n",
       "<style scoped>\n",
       "    .dataframe tbody tr th:only-of-type {\n",
       "        vertical-align: middle;\n",
       "    }\n",
       "\n",
       "    .dataframe tbody tr th {\n",
       "        vertical-align: top;\n",
       "    }\n",
       "\n",
       "    .dataframe thead th {\n",
       "        text-align: right;\n",
       "    }\n",
       "</style>\n",
       "<table border=\"1\" class=\"dataframe\">\n",
       "  <thead>\n",
       "    <tr style=\"text-align: right;\">\n",
       "      <th></th>\n",
       "      <th>scores</th>\n",
       "      <th>students</th>\n",
       "    </tr>\n",
       "  </thead>\n",
       "  <tbody>\n",
       "    <tr>\n",
       "      <th>rank1</th>\n",
       "      <td>20</td>\n",
       "      <td>sam</td>\n",
       "    </tr>\n",
       "    <tr>\n",
       "      <th>rank2</th>\n",
       "      <td>19</td>\n",
       "      <td>pam</td>\n",
       "    </tr>\n",
       "    <tr>\n",
       "      <th>rank3</th>\n",
       "      <td>18</td>\n",
       "      <td>jym</td>\n",
       "    </tr>\n",
       "    <tr>\n",
       "      <th>rank4</th>\n",
       "      <td>17</td>\n",
       "      <td>kim</td>\n",
       "    </tr>\n",
       "  </tbody>\n",
       "</table>\n",
       "</div>"
      ],
      "text/plain": [
       "       scores students\n",
       "rank1      20      sam\n",
       "rank2      19      pam\n",
       "rank3      18      jym\n",
       "rank4      17      kim"
      ]
     },
     "execution_count": 30,
     "metadata": {},
     "output_type": "execute_result"
    }
   ],
   "source": [
    "table.loc[:, ['scores', 'students']]"
   ]
  },
  {
   "cell_type": "markdown",
   "id": "1b675788-def8-4777-add6-e721392bdcdb",
   "metadata": {},
   "source": [
    "### what are pandas indexes anyway?\n",
    "Basically, the row number is the index. to be more persice about that, Pandas makes indexes for any DataFrame (and Series?) by default, so that there could be reached if searched. like 0, 1, 2, ...\n",
    "\n",
    "so now, what does **Indexing** mean? simply, that is assiging a **cloumn** of the real data, as the index so that it could be more meaningful and sometimes more accessible for spicific uses. below is shown how:\n",
    "\n",
    "#### manipulating the index:\n",
    "by using the **set_index** method, a column (or more than one) could be setted as the index lable.\n",
    "\n",
    "this comes in handy for the privously mentioned probelm, when it was desired to use **loc** with first indexes of lables. consider this example below:"
   ]
  },
  {
   "cell_type": "code",
   "execution_count": 31,
   "id": "dd2f90a6-1aae-41c7-b70e-d93a681a6fb9",
   "metadata": {},
   "outputs": [
    {
     "data": {
      "text/html": [
       "<div>\n",
       "<style scoped>\n",
       "    .dataframe tbody tr th:only-of-type {\n",
       "        vertical-align: middle;\n",
       "    }\n",
       "\n",
       "    .dataframe tbody tr th {\n",
       "        vertical-align: top;\n",
       "    }\n",
       "\n",
       "    .dataframe thead th {\n",
       "        text-align: right;\n",
       "    }\n",
       "</style>\n",
       "<table border=\"1\" class=\"dataframe\">\n",
       "  <thead>\n",
       "    <tr style=\"text-align: right;\">\n",
       "      <th></th>\n",
       "      <th>id</th>\n",
       "      <th>name</th>\n",
       "      <th>pass</th>\n",
       "    </tr>\n",
       "  </thead>\n",
       "  <tbody>\n",
       "    <tr>\n",
       "      <th>0</th>\n",
       "      <td>hamed!@</td>\n",
       "      <td>hamed</td>\n",
       "      <td>do</td>\n",
       "    </tr>\n",
       "    <tr>\n",
       "      <th>1</th>\n",
       "      <td>hamid#$</td>\n",
       "      <td>hamid</td>\n",
       "      <td>re</td>\n",
       "    </tr>\n",
       "    <tr>\n",
       "      <th>2</th>\n",
       "      <td>ahmad@#</td>\n",
       "      <td>ahmad</td>\n",
       "      <td>mi</td>\n",
       "    </tr>\n",
       "  </tbody>\n",
       "</table>\n",
       "</div>"
      ],
      "text/plain": [
       "        id   name pass\n",
       "0  hamed!@  hamed   do\n",
       "1  hamid#$  hamid   re\n",
       "2  ahmad@#  ahmad   mi"
      ]
     },
     "execution_count": 31,
     "metadata": {},
     "output_type": "execute_result"
    }
   ],
   "source": [
    "my_dict = {\n",
    "    'id': ['hamed!@', 'hamid#$', 'ahmad@#'],\n",
    "    'name': ['hamed', 'hamid', 'ahmad'],\n",
    "    'pass': ['do', 're', 'mi']\n",
    "}\n",
    "my_df = pd.DataFrame(my_dict)\n",
    "my_df"
   ]
  },
  {
   "cell_type": "code",
   "execution_count": 32,
   "id": "96ce083a-85ec-4675-83d7-dda9d738c4c6",
   "metadata": {
    "scrolled": true
   },
   "outputs": [
    {
     "data": {
      "text/html": [
       "<div>\n",
       "<style scoped>\n",
       "    .dataframe tbody tr th:only-of-type {\n",
       "        vertical-align: middle;\n",
       "    }\n",
       "\n",
       "    .dataframe tbody tr th {\n",
       "        vertical-align: top;\n",
       "    }\n",
       "\n",
       "    .dataframe thead th {\n",
       "        text-align: right;\n",
       "    }\n",
       "</style>\n",
       "<table border=\"1\" class=\"dataframe\">\n",
       "  <thead>\n",
       "    <tr style=\"text-align: right;\">\n",
       "      <th></th>\n",
       "      <th>name</th>\n",
       "      <th>pass</th>\n",
       "    </tr>\n",
       "    <tr>\n",
       "      <th>id</th>\n",
       "      <th></th>\n",
       "      <th></th>\n",
       "    </tr>\n",
       "  </thead>\n",
       "  <tbody>\n",
       "    <tr>\n",
       "      <th>hamed!@</th>\n",
       "      <td>hamed</td>\n",
       "      <td>do</td>\n",
       "    </tr>\n",
       "    <tr>\n",
       "      <th>hamid#$</th>\n",
       "      <td>hamid</td>\n",
       "      <td>re</td>\n",
       "    </tr>\n",
       "    <tr>\n",
       "      <th>ahmad@#</th>\n",
       "      <td>ahmad</td>\n",
       "      <td>mi</td>\n",
       "    </tr>\n",
       "  </tbody>\n",
       "</table>\n",
       "</div>"
      ],
      "text/plain": [
       "          name pass\n",
       "id                 \n",
       "hamed!@  hamed   do\n",
       "hamid#$  hamid   re\n",
       "ahmad@#  ahmad   mi"
      ]
     },
     "execution_count": 32,
     "metadata": {},
     "output_type": "execute_result"
    }
   ],
   "source": [
    "# my_df.loc[['hamed!@', 'hamid#$'], 'name']\n",
    "# not possible above, because the fact that can't use labels as indexes, untill setting sth to index.\n",
    "my_df.set_index('id', inplace=True)\n",
    "my_df\n",
    "# my_df.loc('hamid!@', 'name')"
   ]
  },
  {
   "cell_type": "code",
   "execution_count": 33,
   "id": "a72ac23f-3408-4b4d-b381-e996e6b5c4e0",
   "metadata": {},
   "outputs": [
    {
     "data": {
      "text/plain": [
       "id\n",
       "hamed!@    hamed\n",
       "hamid#$    hamid\n",
       "Name: name, dtype: object"
      ]
     },
     "execution_count": 33,
     "metadata": {},
     "output_type": "execute_result"
    }
   ],
   "source": [
    "# my_df.loc['hamid!@', 'name']\n",
    "my_df.loc[['hamed!@', 'hamid#$'], 'name']"
   ]
  },
  {
   "cell_type": "markdown",
   "id": "d0cfdb0d-81be-40d1-a146-f9376865462d",
   "metadata": {},
   "source": [
    "### what is multiIndexing?\n",
    "In pandas, there is a term named multiIndexing, using assinmednt of more than one column to a DataFrame as index.\n",
    "like this:"
   ]
  },
  {
   "cell_type": "code",
   "execution_count": 36,
   "id": "23333c73-28eb-4d1c-8c8d-05a63a706ec0",
   "metadata": {},
   "outputs": [
    {
     "data": {
      "text/html": [
       "<div>\n",
       "<style scoped>\n",
       "    .dataframe tbody tr th:only-of-type {\n",
       "        vertical-align: middle;\n",
       "    }\n",
       "\n",
       "    .dataframe tbody tr th {\n",
       "        vertical-align: top;\n",
       "    }\n",
       "\n",
       "    .dataframe thead th {\n",
       "        text-align: right;\n",
       "    }\n",
       "</style>\n",
       "<table border=\"1\" class=\"dataframe\">\n",
       "  <thead>\n",
       "    <tr style=\"text-align: right;\">\n",
       "      <th></th>\n",
       "      <th></th>\n",
       "      <th>pass</th>\n",
       "    </tr>\n",
       "    <tr>\n",
       "      <th>id</th>\n",
       "      <th>name</th>\n",
       "      <th></th>\n",
       "    </tr>\n",
       "  </thead>\n",
       "  <tbody>\n",
       "    <tr>\n",
       "      <th>hamed!@</th>\n",
       "      <th>hamed</th>\n",
       "      <td>do</td>\n",
       "    </tr>\n",
       "    <tr>\n",
       "      <th>hamid#$</th>\n",
       "      <th>hamid</th>\n",
       "      <td>re</td>\n",
       "    </tr>\n",
       "    <tr>\n",
       "      <th>ahmad@#</th>\n",
       "      <th>ahmad</th>\n",
       "      <td>mi</td>\n",
       "    </tr>\n",
       "  </tbody>\n",
       "</table>\n",
       "</div>"
      ],
      "text/plain": [
       "              pass\n",
       "id      name      \n",
       "hamed!@ hamed   do\n",
       "hamid#$ hamid   re\n",
       "ahmad@# ahmad   mi"
      ]
     },
     "execution_count": 36,
     "metadata": {},
     "output_type": "execute_result"
    }
   ],
   "source": [
    "my_dict = {\n",
    "    'id': ['hamed!@', 'hamid#$', 'ahmad@#'],\n",
    "    'name': ['hamed', 'hamid', 'ahmad'],\n",
    "    'pass': ['do', 're', 'mi']\n",
    "}\n",
    "my_df = pd.DataFrame(my_dict)\n",
    "my_df.set_index(['id', 'name'], inplace=True)\n",
    "my_df"
   ]
  },
  {
   "cell_type": "code",
   "execution_count": 37,
   "id": "aa4345a3-141b-4092-a9df-6d2cb6f4ac2f",
   "metadata": {},
   "outputs": [
    {
     "data": {
      "text/html": [
       "<div>\n",
       "<style scoped>\n",
       "    .dataframe tbody tr th:only-of-type {\n",
       "        vertical-align: middle;\n",
       "    }\n",
       "\n",
       "    .dataframe tbody tr th {\n",
       "        vertical-align: top;\n",
       "    }\n",
       "\n",
       "    .dataframe thead th {\n",
       "        text-align: right;\n",
       "    }\n",
       "</style>\n",
       "<table border=\"1\" class=\"dataframe\">\n",
       "  <thead>\n",
       "    <tr style=\"text-align: right;\">\n",
       "      <th></th>\n",
       "      <th>id</th>\n",
       "      <th>name</th>\n",
       "      <th>pass</th>\n",
       "    </tr>\n",
       "  </thead>\n",
       "  <tbody>\n",
       "    <tr>\n",
       "      <th>0</th>\n",
       "      <td>hamed!@</td>\n",
       "      <td>hamed</td>\n",
       "      <td>do</td>\n",
       "    </tr>\n",
       "    <tr>\n",
       "      <th>1</th>\n",
       "      <td>hamid#$</td>\n",
       "      <td>hamid</td>\n",
       "      <td>re</td>\n",
       "    </tr>\n",
       "    <tr>\n",
       "      <th>2</th>\n",
       "      <td>ahmad@#</td>\n",
       "      <td>ahmad</td>\n",
       "      <td>mi</td>\n",
       "    </tr>\n",
       "  </tbody>\n",
       "</table>\n",
       "</div>"
      ],
      "text/plain": [
       "        id   name pass\n",
       "0  hamed!@  hamed   do\n",
       "1  hamid#$  hamid   re\n",
       "2  ahmad@#  ahmad   mi"
      ]
     },
     "execution_count": 37,
     "metadata": {},
     "output_type": "execute_result"
    }
   ],
   "source": [
    "my_df.reset_index()"
   ]
  },
  {
   "cell_type": "markdown",
   "id": "fb543aa2-6ad3-40be-8b45-6ba7cdb646cd",
   "metadata": {},
   "source": [
    "---\n",
    "\n",
    "### selectiong by logic\n",
    "what if it was desired to find the very thing that has been searched for? here is the ansower: use the dot notation (.) to choose the column names, and use the '==' to check for the data.\n"
   ]
  },
  {
   "cell_type": "code",
   "execution_count": null,
   "id": "9ff77fd8-9c9d-4270-a17b-a7479b3fca33",
   "metadata": {},
   "outputs": [],
   "source": [
    "my_dict = {\n",
    "    'scores': [20, 19, 18, 17],\n",
    "    'students': ['sam', 'pam', 'sam', 'kim'],\n",
    "    'last Name': ['do', 're', 'fa', 'sol']\n",
    "}\n",
    "\n",
    "table = pd.DataFrame(my_dict, index=['rank1', 'rank2', 'rank3', 'rank4'])\n",
    "table.students == 'sam'"
   ]
  },
  {
   "cell_type": "markdown",
   "id": "9807eb7a-90a3-4dcf-891f-6d9a9de84df8",
   "metadata": {},
   "source": [
    "and here is how to show the only filterd data:"
   ]
  },
  {
   "cell_type": "code",
   "execution_count": null,
   "id": "30b4871f-c3a1-4471-b262-ce25e95b1978",
   "metadata": {},
   "outputs": [],
   "source": [
    "table.loc[table.students == 'sam']"
   ]
  },
  {
   "cell_type": "markdown",
   "id": "83eae26b-5d8a-4bab-a290-4bad2afd8ffa",
   "metadata": {},
   "source": [
    "you could also be more creative about logical index searching!"
   ]
  },
  {
   "cell_type": "code",
   "execution_count": null,
   "id": "4fff8b66-287a-440f-8e99-ce96d4719891",
   "metadata": {},
   "outputs": [],
   "source": [
    "table.loc[(table.students == 'sam') & (table['last Name'] == 'do')]"
   ]
  },
  {
   "cell_type": "markdown",
   "id": "1dc4e0a1-b736-4278-9dd2-4d8f218f00d3",
   "metadata": {},
   "source": [
    "### Pandas built-in conditional selectors\n",
    "the **isin**, which lets you select data whose value \"is in\" a list of values."
   ]
  },
  {
   "cell_type": "code",
   "execution_count": null,
   "id": "4d5b1370-57e8-4716-a719-b4c15d66c233",
   "metadata": {},
   "outputs": [],
   "source": [
    "table.loc[table.students.isin(['sam'])]"
   ]
  },
  {
   "cell_type": "code",
   "execution_count": null,
   "id": "9b8c8868-eadc-4d95-bf76-9e29f538ab8f",
   "metadata": {},
   "outputs": [],
   "source": [
    "table.loc[(table.students.isin(['sam'])) & (table['last Name'].isin(['do']))]"
   ]
  },
  {
   "cell_type": "markdown",
   "id": "855c39cb-5b16-40fd-8bc3-f48c72b8bdd7",
   "metadata": {},
   "source": [
    "## How to assign data to DataFrame?\n",
    "answer: easily! review these examples below:"
   ]
  },
  {
   "cell_type": "code",
   "execution_count": null,
   "id": "6d01fc57-ff3b-466a-89c2-bc64ebbf6fce",
   "metadata": {},
   "outputs": [],
   "source": [
    "table['new column'] = ['column1', 'column2', 'column3', 'column4']"
   ]
  },
  {
   "cell_type": "code",
   "execution_count": null,
   "id": "7e336589-7643-4dea-97d2-1f01d4886717",
   "metadata": {},
   "outputs": [],
   "source": [
    "table"
   ]
  },
  {
   "cell_type": "code",
   "execution_count": null,
   "id": "b05f7c71-aa8b-4b9d-8f4f-0c1f79cd0a52",
   "metadata": {},
   "outputs": [],
   "source": [
    "table.loc[(table.students == 'sam') & (table['last Name'] == 'do'), 'scores'] = 16\n",
    "table"
   ]
  }
 ],
 "metadata": {
  "kernelspec": {
   "display_name": "Python 3 (ipykernel)",
   "language": "python",
   "name": "python3"
  },
  "language_info": {
   "codemirror_mode": {
    "name": "ipython",
    "version": 3
   },
   "file_extension": ".py",
   "mimetype": "text/x-python",
   "name": "python",
   "nbconvert_exporter": "python",
   "pygments_lexer": "ipython3",
   "version": "3.11.2"
  }
 },
 "nbformat": 4,
 "nbformat_minor": 5
}
