{
 "cells": [
  {
   "cell_type": "markdown",
   "id": "e9c9ce38-04a9-4315-a211-ffb24dc067f1",
   "metadata": {},
   "source": [
    "# pandas toturial part 2"
   ]
  },
  {
   "cell_type": "markdown",
   "id": "579d368b-43c3-4e3b-b9ab-0579112a9472",
   "metadata": {},
   "source": [
    "what is going to be discussed is selecting specific values of a pandas DataFrame or Series to work on."
   ]
  },
  {
   "cell_type": "markdown",
   "id": "ab5d3b29-1bc8-4bb4-88d6-9802d30baf24",
   "metadata": {},
   "source": [
    "#### what is an accessors?\n",
    "as it interoduce itself, it gives access; when a class has an accessor, it allows to the private members be accessible on other scopes. the most simple examole of an accessor function could be the 'getter' and 'setter' of a function. These below are a few sample of accessors: "
   ]
  },
  {
   "cell_type": "code",
   "execution_count": 1,
   "id": "e8bfac49-cfdf-499a-9ad5-ac12beca7df9",
   "metadata": {},
   "outputs": [
    {
     "name": "stdout",
     "output_type": "stream",
     "text": [
      "4\n",
      "2\n",
      "array('i', [5, 1, 3, 4, 2, 2, 7, 19])\n"
     ]
    }
   ],
   "source": [
    "import array \n",
    "     \n",
    "arr = array.array('i', [5, 1, 3, 4, 2, 2, 7])\n",
    " \n",
    "# Accesses the index of the value in argument\n",
    "print (arr.index(2))\n",
    " \n",
    "# Accesses the number of time the\n",
    "# stated value is present\n",
    "print (arr.count(2))\n",
    " \n",
    "# Mutates the array list\n",
    "(arr.append(19))\n",
    " \n",
    "# Prints the array after alteration\n",
    "print (arr)"
   ]
  },
  {
   "cell_type": "markdown",
   "id": "222818f0-7f00-4ba3-aa0e-c7d6678453d2",
   "metadata": {},
   "source": [
    "To learn more about the accessors, [read here](https://www.geeksforgeeks.org/accessor-and-mutator-methods-in-python/).\n"
   ]
  },
  {
   "cell_type": "markdown",
   "id": "e2b8280f-29ed-4f3d-8921-55212861ccaa",
   "metadata": {},
   "source": [
    "---"
   ]
  },
  {
   "cell_type": "markdown",
   "id": "2ae13dd6-1af7-47cf-ba63-e6777f6ea59b",
   "metadata": {},
   "source": [
    "Native Python objects provide good ways of indexing data. Pandas carries all of these over.\n",
    "here is how to Access an Attribute of a **class** Instance:\n",
    "Use the dot notation (.):"
   ]
  },
  {
   "cell_type": "code",
   "execution_count": 31,
   "id": "9ae255f6-a9fe-4cba-a1db-d0395b6fd6fa",
   "metadata": {},
   "outputs": [
    {
     "data": {
      "text/plain": [
       "<__main__.Book at 0x24133b43190>"
      ]
     },
     "execution_count": 31,
     "metadata": {},
     "output_type": "execute_result"
    }
   ],
   "source": [
    "class Book:\n",
    "    def __init__(self, title, author):\n",
    "        self.title = title    # instance attribute\n",
    "        self.author = author  # instance attribute\n",
    "\n",
    "    def get_info(self):\n",
    "        return f\"'{self.title}' by {self.author}\"\n",
    "\n",
    "\n",
    "my_book = Book(\"1984\", \"George Orwell\")\n",
    "my_book"
   ]
  },
  {
   "cell_type": "code",
   "execution_count": 4,
   "id": "dfec81c1-d93e-4170-96c1-d7a106d2da0a",
   "metadata": {},
   "outputs": [
    {
     "data": {
      "text/plain": [
       "'1984'"
      ]
     },
     "execution_count": 4,
     "metadata": {},
     "output_type": "execute_result"
    }
   ],
   "source": [
    "my_book.title"
   ]
  },
  {
   "cell_type": "code",
   "execution_count": 32,
   "id": "11fc51a2-136f-4be0-890f-3197e9026955",
   "metadata": {},
   "outputs": [
    {
     "data": {
      "text/plain": [
       "'George Orwell'"
      ]
     },
     "execution_count": 32,
     "metadata": {},
     "output_type": "execute_result"
    }
   ],
   "source": [
    "my_book.author"
   ]
  },
  {
   "cell_type": "markdown",
   "id": "0403d190-42f8-40a4-9ea9-9797a2cb2d88",
   "metadata": {},
   "source": [
    "and here is a sample of accessing a Value in a Dictionary:\n",
    "Use the bracket notation with a key (\\['key']):"
   ]
  },
  {
   "cell_type": "code",
   "execution_count": 11,
   "id": "172f82c6-b449-47c0-aed3-b4388fd23d75",
   "metadata": {},
   "outputs": [
    {
     "data": {
      "text/plain": [
       "{'title': '1984', 'author': 'George Orwell', 'year': 1949}"
      ]
     },
     "execution_count": 11,
     "metadata": {},
     "output_type": "execute_result"
    }
   ],
   "source": [
    "# my_book['title']\n",
    "my_book = {\n",
    "    'title': '1984',\n",
    "    'author': 'George Orwell',\n",
    "    'year': 1949\n",
    "}\n",
    "\n",
    "my_book"
   ]
  },
  {
   "cell_type": "code",
   "execution_count": 12,
   "id": "cca42ba0-08c0-4139-876c-5983e8d0dad7",
   "metadata": {},
   "outputs": [
    {
     "data": {
      "text/plain": [
       "'1984'"
      ]
     },
     "execution_count": 12,
     "metadata": {},
     "output_type": "execute_result"
    }
   ],
   "source": [
    "my_book['title']"
   ]
  },
  {
   "cell_type": "code",
   "execution_count": 30,
   "id": "e232965b-9d41-421c-bd38-2c1dc2638a64",
   "metadata": {},
   "outputs": [
    {
     "data": {
      "text/plain": [
       "'George Orwell'"
      ]
     },
     "execution_count": 30,
     "metadata": {},
     "output_type": "execute_result"
    }
   ],
   "source": [
    "my_book['author']"
   ]
  },
  {
   "cell_type": "markdown",
   "id": "076e318e-d6d1-46af-8cf8-a5a37f788b2f",
   "metadata": {},
   "source": [
    "---\n",
    "Now, what does python accessors have to do with **pandas**? \n",
    "the answer is here: the dataFrames uses the dame way:"
   ]
  },
  {
   "cell_type": "code",
   "execution_count": 20,
   "id": "f5315079-0682-4a89-8fe1-80493de9a79a",
   "metadata": {},
   "outputs": [
    {
     "data": {
      "text/html": [
       "<div>\n",
       "<style scoped>\n",
       "    .dataframe tbody tr th:only-of-type {\n",
       "        vertical-align: middle;\n",
       "    }\n",
       "\n",
       "    .dataframe tbody tr th {\n",
       "        vertical-align: top;\n",
       "    }\n",
       "\n",
       "    .dataframe thead th {\n",
       "        text-align: right;\n",
       "    }\n",
       "</style>\n",
       "<table border=\"1\" class=\"dataframe\">\n",
       "  <thead>\n",
       "    <tr style=\"text-align: right;\">\n",
       "      <th></th>\n",
       "      <th>scores</th>\n",
       "      <th>students</th>\n",
       "    </tr>\n",
       "  </thead>\n",
       "  <tbody>\n",
       "    <tr>\n",
       "      <th>rank1</th>\n",
       "      <td>20</td>\n",
       "      <td>sam</td>\n",
       "    </tr>\n",
       "    <tr>\n",
       "      <th>rank2</th>\n",
       "      <td>19</td>\n",
       "      <td>pam</td>\n",
       "    </tr>\n",
       "    <tr>\n",
       "      <th>rank3</th>\n",
       "      <td>18</td>\n",
       "      <td>jym</td>\n",
       "    </tr>\n",
       "    <tr>\n",
       "      <th>rank4</th>\n",
       "      <td>17</td>\n",
       "      <td>kim</td>\n",
       "    </tr>\n",
       "  </tbody>\n",
       "</table>\n",
       "</div>"
      ],
      "text/plain": [
       "       scores students\n",
       "rank1      20      sam\n",
       "rank2      19      pam\n",
       "rank3      18      jym\n",
       "rank4      17      kim"
      ]
     },
     "execution_count": 20,
     "metadata": {},
     "output_type": "execute_result"
    }
   ],
   "source": [
    "import pandas as pd\n",
    "arr = pd.DataFrame({'scores': [20, 19, 18, 17], 'students': ['sam', 'pam', 'jym', 'kim']}, index=['rank1', 'rank2', 'rank3', 'rank4'])\n",
    "arr"
   ]
  },
  {
   "cell_type": "markdown",
   "id": "864f92c8-8df8-4e40-96e0-fc1d267efa92",
   "metadata": {},
   "source": [
    "now let's see how to access the values:\n",
    "both ways of using (.) and ([]) are avialble here!"
   ]
  },
  {
   "cell_type": "code",
   "execution_count": 21,
   "id": "77ce1e87-f062-453b-b4be-3ddd54525581",
   "metadata": {},
   "outputs": [
    {
     "data": {
      "text/plain": [
       "rank1    20\n",
       "rank2    19\n",
       "rank3    18\n",
       "rank4    17\n",
       "Name: scores, dtype: int64"
      ]
     },
     "execution_count": 21,
     "metadata": {},
     "output_type": "execute_result"
    }
   ],
   "source": [
    "arr.scores"
   ]
  },
  {
   "cell_type": "code",
   "execution_count": 22,
   "id": "614d6500-cc9b-41e4-87dc-c8b987f0b5f3",
   "metadata": {},
   "outputs": [
    {
     "data": {
      "text/plain": [
       "rank1    20\n",
       "rank2    19\n",
       "rank3    18\n",
       "rank4    17\n",
       "Name: scores, dtype: int64"
      ]
     },
     "execution_count": 22,
     "metadata": {},
     "output_type": "execute_result"
    }
   ],
   "source": [
    "arr['scores']"
   ]
  },
  {
   "cell_type": "markdown",
   "id": "4d0bb708-353a-4835-b410-5bb0e363b2c5",
   "metadata": {},
   "source": [
    "here is another fun usage of the ([]) notation: accessing a single value, using the second ([]) notation that indicates the row number."
   ]
  },
  {
   "cell_type": "code",
   "execution_count": 24,
   "id": "b47dd9aa-3f96-4937-b1d4-4300f97b7858",
   "metadata": {},
   "outputs": [
    {
     "data": {
      "text/plain": [
       "18"
      ]
     },
     "execution_count": 24,
     "metadata": {},
     "output_type": "execute_result"
    }
   ],
   "source": [
    "arr['scores']['rank3']"
   ]
  },
  {
   "cell_type": "markdown",
   "id": "a8b9d33c-1bfc-476b-a5d3-b820c390efca",
   "metadata": {},
   "source": [
    "this is another way to relate the DataFrames in pandas and simple dictionries in python: "
   ]
  },
  {
   "cell_type": "code",
   "execution_count": 33,
   "id": "d125bc93-8295-42c1-9de6-d51b5e2d42a3",
   "metadata": {},
   "outputs": [
    {
     "data": {
      "text/html": [
       "<div>\n",
       "<style scoped>\n",
       "    .dataframe tbody tr th:only-of-type {\n",
       "        vertical-align: middle;\n",
       "    }\n",
       "\n",
       "    .dataframe tbody tr th {\n",
       "        vertical-align: top;\n",
       "    }\n",
       "\n",
       "    .dataframe thead th {\n",
       "        text-align: right;\n",
       "    }\n",
       "</style>\n",
       "<table border=\"1\" class=\"dataframe\">\n",
       "  <thead>\n",
       "    <tr style=\"text-align: right;\">\n",
       "      <th></th>\n",
       "      <th>scores</th>\n",
       "      <th>students</th>\n",
       "      <th>last Name</th>\n",
       "    </tr>\n",
       "  </thead>\n",
       "  <tbody>\n",
       "    <tr>\n",
       "      <th>rank1</th>\n",
       "      <td>20</td>\n",
       "      <td>sam</td>\n",
       "      <td>do</td>\n",
       "    </tr>\n",
       "    <tr>\n",
       "      <th>rank2</th>\n",
       "      <td>19</td>\n",
       "      <td>pam</td>\n",
       "      <td>re mi</td>\n",
       "    </tr>\n",
       "    <tr>\n",
       "      <th>rank3</th>\n",
       "      <td>18</td>\n",
       "      <td>jym</td>\n",
       "      <td>fa</td>\n",
       "    </tr>\n",
       "    <tr>\n",
       "      <th>rank4</th>\n",
       "      <td>17</td>\n",
       "      <td>kim</td>\n",
       "      <td>sol</td>\n",
       "    </tr>\n",
       "  </tbody>\n",
       "</table>\n",
       "</div>"
      ],
      "text/plain": [
       "       scores students last Name\n",
       "rank1      20      sam        do\n",
       "rank2      19      pam     re mi\n",
       "rank3      18      jym        fa\n",
       "rank4      17      kim       sol"
      ]
     },
     "execution_count": 33,
     "metadata": {},
     "output_type": "execute_result"
    }
   ],
   "source": [
    "my_dict = {\n",
    "    'scores': [20, 19, 18, 17],\n",
    "    'students': ['sam', 'pam', 'jym', 'kim'],\n",
    "    'last Name': ['do', 're mi', 'fa', 'sol']\n",
    "}\n",
    "\n",
    "table = pd.DataFrame(my_dict, index=['rank1', 'rank2', 'rank3', 'rank4'])\n",
    "table"
   ]
  },
  {
   "cell_type": "markdown",
   "id": "9794d535-6e08-452c-b53c-8ba6639cd949",
   "metadata": {},
   "source": [
    "here is a fun fact that shows a benefit of using ([]) rather that the (.): consider the last name that has an space (considerd as an special character). now the approach \\['last Name'] is possible, but the .last Name is not possible! "
   ]
  },
  {
   "cell_type": "code",
   "execution_count": 34,
   "id": "40692b01-efb5-4172-9a72-e810031b1c8b",
   "metadata": {},
   "outputs": [
    {
     "data": {
      "text/plain": [
       "rank1       do\n",
       "rank2    re mi\n",
       "rank3       fa\n",
       "rank4      sol\n",
       "Name: last Name, dtype: object"
      ]
     },
     "execution_count": 34,
     "metadata": {},
     "output_type": "execute_result"
    }
   ],
   "source": [
    "table['last Name']"
   ]
  }
 ],
 "metadata": {
  "kernelspec": {
   "display_name": "Python 3 (ipykernel)",
   "language": "python",
   "name": "python3"
  },
  "language_info": {
   "codemirror_mode": {
    "name": "ipython",
    "version": 3
   },
   "file_extension": ".py",
   "mimetype": "text/x-python",
   "name": "python",
   "nbconvert_exporter": "python",
   "pygments_lexer": "ipython3",
   "version": "3.11.2"
  }
 },
 "nbformat": 4,
 "nbformat_minor": 5
}
