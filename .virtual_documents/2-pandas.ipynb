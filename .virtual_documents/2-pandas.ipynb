








import array 
     
arr = array.array('i', [5, 1, 3, 4, 2, 2, 7])
 
# Accesses the index of the value in argument
print (arr.index(2))
 
# Accesses the number of time the
# stated value is present
print (arr.count(2))
 
# Mutates the array list
(arr.append(19))
 
# Prints the array after alteration
print (arr)











class Book:
    def __init__(self, title, author):
        self.title = title    # instance attribute
        self.author = author  # instance attribute

    def get_info(self):
        return f"'{self.title}' by {self.author}"


my_book = Book("1984", "George Orwell")
my_book


my_book.title


my_book.author





# my_book['title']
my_book = {
    'title': '1984',
    'author': 'George Orwell',
    'year': 1949
}

my_book


my_book['title']


my_book['author']





import pandas as pd
arr = pd.DataFrame({'scores': [20, 19, 18, 17], 'students': ['sam', 'pam', 'jym', 'kim']}, index=['rank1', 'rank2', 'rank3', 'rank4'])
arr





arr.scores


arr['scores']





arr['scores']['rank3']





my_dict = {
    'scores': [20, 19, 18, 17],
    'students': ['sam', 'pam', 'jym', 'kim'],
    'last Name': ['do', 're', 'fa', 'sol']
}

table = pd.DataFrame(my_dict, index=['rank1', 'rank2', 'rank3', 'rank4'])
table





table['last Name']








table.iloc[0]


table.iloc[0:2]


table.iloc[0:3:2]


table.iloc[0:3, 0]


table.iloc[0:3, 1]


table.iloc[0:3, 0:2]


table.iloc[0:3, 0:3]


table





table.iloc[[0, 1, 3], [0, 2]]





table.iloc[-3:]





table.loc['rank1', 'students']





new_table = pd.DataFrame({'notes': [0, 1, 2, 3], 'french':['do', 're', 'mi', 'fa']})
new_table.loc[0, 'french']





table.loc['rank1', ['scores', 'students']]


table.loc[:, ['scores', 'students']]





my_dict = {
    'id': ['hamed!@', 'hamid#$', 'ahmad@#'],
    'name': ['hamed', 'hamid', 'ahmad'],
    'pass': ['do', 're', 'mi']
}
my_df = pd.DataFrame(my_dict)
my_df


# my_df.loc[['hamed!@', 'hamid#$'], 'name']
# not possible above, because the fact that can't use labels as indexes, untill setting sth to index.
my_df.set_index('id', inplace=True)
my_df
# my_df.loc('hamid!@', 'name')


# my_df.loc['hamid!@', 'name']
my_df.loc[['hamed!@', 'hamid#$'], 'name']





my_dict = {
    'id': ['hamed!@', 'hamid#$', 'ahmad@#'],
    'name': ['hamed', 'hamid', 'ahmad'],
    'pass': ['do', 're', 'mi']
}
my_df = pd.DataFrame(my_dict)
my_df.set_index(['id', 'name'], inplace=True)
my_df


my_df.reset_index()





my_dict = {
    'scores': [20, 19, 18, 17],
    'students': ['sam', 'pam', 'sam', 'kim'],
    'last Name': ['do', 're', 'fa', 'sol']
}

table = pd.DataFrame(my_dict, index=['rank1', 'rank2', 'rank3', 'rank4'])
table.students == 'sam'





table.loc[table.students == 'sam']





table.loc[(table.students == 'sam') & (table['last Name'] == 'do')]





table.loc[table.students.isin(['sam'])]


table.loc[(table.students.isin(['sam'])) & (table['last Name'].isin(['do']))]





table['new column'] = ['column1', 'column2', 'column3', 'column4']


table


table.loc[(table.students == 'sam') & (table['last Name'] == 'do'), 'scores'] = 16
table
