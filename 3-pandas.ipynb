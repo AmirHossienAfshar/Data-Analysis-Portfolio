{
 "cells": [
  {
   "cell_type": "markdown",
   "id": "ba07f0b5-0245-4934-a856-255fbb61165b",
   "metadata": {},
   "source": [
    "# Pandas portfolio part3\n"
   ]
  },
  {
   "cell_type": "markdown",
   "id": "c7ee49d5-1240-4e35-b3ab-49021758427a",
   "metadata": {},
   "source": [
    "In this part of the pandas prgoress, the topic is going to be how to restructure the data in some useful way. There are some powerfull functions that allow us to do that.\n",
    "#### describe() function:\n",
    "this is a handy function to get a general information about the DataFrame info. checkout examples below:"
   ]
  },
  {
   "cell_type": "code",
   "execution_count": 2,
   "id": "6ba76898-1720-48ed-a8c0-a0f040b07068",
   "metadata": {},
   "outputs": [],
   "source": [
    "import pandas as pd"
   ]
  },
  {
   "cell_type": "code",
   "execution_count": 3,
   "id": "8b92a4a0-e967-4ef0-80f7-6d4da51754a6",
   "metadata": {},
   "outputs": [
    {
     "data": {
      "text/html": [
       "<div>\n",
       "<style scoped>\n",
       "    .dataframe tbody tr th:only-of-type {\n",
       "        vertical-align: middle;\n",
       "    }\n",
       "\n",
       "    .dataframe tbody tr th {\n",
       "        vertical-align: top;\n",
       "    }\n",
       "\n",
       "    .dataframe thead th {\n",
       "        text-align: right;\n",
       "    }\n",
       "</style>\n",
       "<table border=\"1\" class=\"dataframe\">\n",
       "  <thead>\n",
       "    <tr style=\"text-align: right;\">\n",
       "      <th></th>\n",
       "      <th>Age</th>\n",
       "    </tr>\n",
       "  </thead>\n",
       "  <tbody>\n",
       "    <tr>\n",
       "      <th>count</th>\n",
       "      <td>4.000000</td>\n",
       "    </tr>\n",
       "    <tr>\n",
       "      <th>mean</th>\n",
       "      <td>26.250000</td>\n",
       "    </tr>\n",
       "    <tr>\n",
       "      <th>std</th>\n",
       "      <td>4.349329</td>\n",
       "    </tr>\n",
       "    <tr>\n",
       "      <th>min</th>\n",
       "      <td>22.000000</td>\n",
       "    </tr>\n",
       "    <tr>\n",
       "      <th>25%</th>\n",
       "      <td>23.500000</td>\n",
       "    </tr>\n",
       "    <tr>\n",
       "      <th>50%</th>\n",
       "      <td>25.500000</td>\n",
       "    </tr>\n",
       "    <tr>\n",
       "      <th>75%</th>\n",
       "      <td>28.250000</td>\n",
       "    </tr>\n",
       "    <tr>\n",
       "      <th>max</th>\n",
       "      <td>32.000000</td>\n",
       "    </tr>\n",
       "  </tbody>\n",
       "</table>\n",
       "</div>"
      ],
      "text/plain": [
       "             Age\n",
       "count   4.000000\n",
       "mean   26.250000\n",
       "std     4.349329\n",
       "min    22.000000\n",
       "25%    23.500000\n",
       "50%    25.500000\n",
       "75%    28.250000\n",
       "max    32.000000"
      ]
     },
     "execution_count": 3,
     "metadata": {},
     "output_type": "execute_result"
    }
   ],
   "source": [
    "data = {\n",
    "    'Name': ['Alice', 'Bob', 'Charlie', 'David'],\n",
    "    'Age': [24, 27, 22, 32],\n",
    "    'City': ['New York', 'Los Angeles', 'Chicago', 'Houston']\n",
    "}\n",
    "\n",
    "df = pd.DataFrame(data)\n",
    "df.describe()          # this will just prosses the numerical column"
   ]
  },
  {
   "cell_type": "code",
   "execution_count": 9,
   "id": "3e388446-fdd3-4bff-8490-768d56abb1eb",
   "metadata": {},
   "outputs": [
    {
     "data": {
      "text/plain": [
       "count         4\n",
       "unique        4\n",
       "top       Alice\n",
       "freq          1\n",
       "Name: Name, dtype: object"
      ]
     },
     "execution_count": 9,
     "metadata": {},
     "output_type": "execute_result"
    }
   ],
   "source": [
    "df.Name.describe()"
   ]
  },
  {
   "cell_type": "code",
   "execution_count": 10,
   "id": "18e94503-6521-45c2-9c76-6d4a8539cf1c",
   "metadata": {},
   "outputs": [
    {
     "data": {
      "text/plain": [
       "count            4\n",
       "unique           4\n",
       "top       New York\n",
       "freq             1\n",
       "Name: City, dtype: object"
      ]
     },
     "execution_count": 10,
     "metadata": {},
     "output_type": "execute_result"
    }
   ],
   "source": [
    "df.City.describe()"
   ]
  },
  {
   "cell_type": "markdown",
   "id": "364b8fbf-bb81-4f9a-a58d-c1eb13d23eb3",
   "metadata": {},
   "source": [
    "#### smaller functions:\n",
    "if it was desired to only prosses a particular info of a DataFrame, there are ways to do that. check these below:"
   ]
  },
  {
   "cell_type": "code",
   "execution_count": 12,
   "id": "8d6d57e3-017d-437c-840d-4dcf058a5732",
   "metadata": {},
   "outputs": [
    {
     "data": {
      "text/plain": [
       "array(['Alice', 'Bob', 'Charlie', 'David'], dtype=object)"
      ]
     },
     "execution_count": 12,
     "metadata": {},
     "output_type": "execute_result"
    }
   ],
   "source": [
    "df.Name.unique()"
   ]
  },
  {
   "cell_type": "code",
   "execution_count": 13,
   "id": "4c4f9167-d6a8-4f8d-8d8d-a641f59f0952",
   "metadata": {},
   "outputs": [
    {
     "data": {
      "text/plain": [
       "4"
      ]
     },
     "execution_count": 13,
     "metadata": {},
     "output_type": "execute_result"
    }
   ],
   "source": [
    "df.Name.count()"
   ]
  },
  {
   "cell_type": "code",
   "execution_count": 14,
   "id": "4263cf39-a822-48ee-b01b-e14bc6fcfe57",
   "metadata": {},
   "outputs": [
    {
     "data": {
      "text/plain": [
       "26.25"
      ]
     },
     "execution_count": 14,
     "metadata": {},
     "output_type": "execute_result"
    }
   ],
   "source": [
    "df.Age.mean()"
   ]
  },
  {
   "cell_type": "markdown",
   "id": "a5ffaee6-4286-4f4b-8c55-7b197bed6ad0",
   "metadata": {},
   "source": [
    "---\n",
    "\n",
    "#### a quick review of Lambda function in python\n",
    "Python Lambda Functions are **anonymous** functions, means that the function is without a name.\n",
    "as the normal functions used to describe by the keyword *def*, these types of functions are described by the keyword *lambda*.\n",
    "\n",
    "here is how the syntax is implemented\n",
    "there will be a keyword *lambda*, the parameters comes right after that keyword. there will be a ':', which allows you to write down the expression.\n",
    "```python\n",
    "some_name = lambda parameter_1, parameter_2: expression\n",
    "```\n",
    "checkout this example:\n"
   ]
  },
  {
   "cell_type": "code",
   "execution_count": 4,
   "id": "763ac0ce-1572-45e0-9298-a8faa664c28b",
   "metadata": {},
   "outputs": [
    {
     "data": {
      "text/plain": [
       "10"
      ]
     },
     "execution_count": 4,
     "metadata": {},
     "output_type": "execute_result"
    }
   ],
   "source": [
    "Max = lambda a, b: a if(a > b) else b\n",
    "Max(1, 10)"
   ]
  },
  {
   "cell_type": "code",
   "execution_count": 4,
   "id": "d87e21d5-c277-4330-8ce9-907806c8f640",
   "metadata": {},
   "outputs": [
    {
     "data": {
      "text/plain": [
       "1000"
      ]
     },
     "execution_count": 4,
     "metadata": {},
     "output_type": "execute_result"
    }
   ],
   "source": [
    "y = 10\n",
    "y_cube = lambda y: y*y*y\n",
    "y_cube(10)"
   ]
  },
  {
   "cell_type": "markdown",
   "id": "ec93c3be-e7c8-4bbc-8ddf-94a285497125",
   "metadata": {},
   "source": [
    "---\n",
    "\n",
    "#### what do you know about *map*? \n",
    "The map() function is used to apply a function to every item of an iterable (like a list or tuple) and return a map object, which is an iterator. An iterable in Python includes lists, tuples, sets, strings, and more—anything you can iterate over element by element.\n",
    "here is what the syntax looks like:\n",
    "```python\n",
    "map(function, iterables)\n",
    "```\n",
    "checkout these examples below:"
   ]
  },
  {
   "cell_type": "code",
   "execution_count": 8,
   "id": "7a8f3e16-faf9-4598-ac45-c2d601f5adc3",
   "metadata": {},
   "outputs": [
    {
     "data": {
      "text/plain": [
       "<map at 0x18cbdc226b0>"
      ]
     },
     "execution_count": 8,
     "metadata": {},
     "output_type": "execute_result"
    }
   ],
   "source": [
    "def myfunc(n):\n",
    "  return len(n)\n",
    "\n",
    "x = map(myfunc, ('apple', 'banana', 'cherry'))\n",
    "x"
   ]
  },
  {
   "cell_type": "markdown",
   "id": "d6e6d001-69bb-4242-ae7f-ae502ba5723c",
   "metadata": {},
   "source": [
    "as you saw above, it returns a map object, the real array output is not avalible like above, so you should try this to see the original output array:"
   ]
  },
  {
   "cell_type": "code",
   "execution_count": 10,
   "id": "99cf3487-7eba-4194-9dda-0f079a4a9b3b",
   "metadata": {},
   "outputs": [
    {
     "data": {
      "text/plain": [
       "[5, 6, 6]"
      ]
     },
     "execution_count": 10,
     "metadata": {},
     "output_type": "execute_result"
    }
   ],
   "source": [
    "list(x)"
   ]
  },
  {
   "cell_type": "markdown",
   "id": "b7d22381-8ac2-49e3-b511-b7c6a845f6e6",
   "metadata": {},
   "source": [
    "---\n",
    "\n",
    "#### Don't go too soon! that was the python bulit-in map function!\n",
    "As you saw above, we hed to use the syntax like **list()** to see the list:\n",
    "```python\n",
    "list(x)\n",
    "```\n",
    "that is due to the fact that was a python bulit-in function, and it Returns an iterator (that you can convert to a list). But what if  we needed a  return type of a new pandas Series (a column in a DataFrame) directly? the answer would be a pandas map function.\n",
    "\n",
    "So how does the map function for pandas looks like? here is how the simple syntax looks like:\n",
    "```python\n",
    "Series.map(function)\n",
    "```\n",
    "checkout the examples below to understand the usage of that pandas map function:"
   ]
  },
  {
   "cell_type": "code",
   "execution_count": 6,
   "id": "2fc72029-d4bf-46f2-b1b5-eb6562d7b307",
   "metadata": {},
   "outputs": [
    {
     "data": {
      "text/html": [
       "<div>\n",
       "<style scoped>\n",
       "    .dataframe tbody tr th:only-of-type {\n",
       "        vertical-align: middle;\n",
       "    }\n",
       "\n",
       "    .dataframe tbody tr th {\n",
       "        vertical-align: top;\n",
       "    }\n",
       "\n",
       "    .dataframe thead th {\n",
       "        text-align: right;\n",
       "    }\n",
       "</style>\n",
       "<table border=\"1\" class=\"dataframe\">\n",
       "  <thead>\n",
       "    <tr style=\"text-align: right;\">\n",
       "      <th></th>\n",
       "      <th>Product</th>\n",
       "      <th>Sales</th>\n",
       "      <th>Discount</th>\n",
       "    </tr>\n",
       "  </thead>\n",
       "  <tbody>\n",
       "    <tr>\n",
       "      <th>0</th>\n",
       "      <td>Apple</td>\n",
       "      <td>200</td>\n",
       "      <td>10</td>\n",
       "    </tr>\n",
       "    <tr>\n",
       "      <th>1</th>\n",
       "      <td>Apple</td>\n",
       "      <td>150</td>\n",
       "      <td>15</td>\n",
       "    </tr>\n",
       "    <tr>\n",
       "      <th>2</th>\n",
       "      <td>Banana</td>\n",
       "      <td>100</td>\n",
       "      <td>5</td>\n",
       "    </tr>\n",
       "    <tr>\n",
       "      <th>3</th>\n",
       "      <td>Banana</td>\n",
       "      <td>120</td>\n",
       "      <td>10</td>\n",
       "    </tr>\n",
       "    <tr>\n",
       "      <th>4</th>\n",
       "      <td>Banana</td>\n",
       "      <td>130</td>\n",
       "      <td>5</td>\n",
       "    </tr>\n",
       "    <tr>\n",
       "      <th>5</th>\n",
       "      <td>Cherry</td>\n",
       "      <td>180</td>\n",
       "      <td>20</td>\n",
       "    </tr>\n",
       "  </tbody>\n",
       "</table>\n",
       "</div>"
      ],
      "text/plain": [
       "  Product  Sales  Discount\n",
       "0   Apple    200        10\n",
       "1   Apple    150        15\n",
       "2  Banana    100         5\n",
       "3  Banana    120        10\n",
       "4  Banana    130         5\n",
       "5  Cherry    180        20"
      ]
     },
     "execution_count": 6,
     "metadata": {},
     "output_type": "execute_result"
    }
   ],
   "source": [
    "data = {\n",
    "    'Product': ['Apple', 'Apple', 'Banana', 'Banana', 'Banana', 'Cherry'],\n",
    "    'Sales': [200, 150, 100, 120, 130, 180],\n",
    "    'Discount': [10, 15, 5, 10, 5, 20]\n",
    "}\n",
    "\n",
    "df = pd.DataFrame(data)\n",
    "df"
   ]
  },
  {
   "cell_type": "markdown",
   "id": "858e9da8-2b4b-4bbc-b7f6-7af1da2e7f92",
   "metadata": {},
   "source": [
    "Now according to that DataFrame, consider that a new columnn is required, with a desired lambda function like below"
   ]
  },
  {
   "cell_type": "code",
   "execution_count": 9,
   "id": "50530533-0cf8-4ba1-9d03-ae57b42451e9",
   "metadata": {},
   "outputs": [
    {
     "data": {
      "text/html": [
       "<div>\n",
       "<style scoped>\n",
       "    .dataframe tbody tr th:only-of-type {\n",
       "        vertical-align: middle;\n",
       "    }\n",
       "\n",
       "    .dataframe tbody tr th {\n",
       "        vertical-align: top;\n",
       "    }\n",
       "\n",
       "    .dataframe thead th {\n",
       "        text-align: right;\n",
       "    }\n",
       "</style>\n",
       "<table border=\"1\" class=\"dataframe\">\n",
       "  <thead>\n",
       "    <tr style=\"text-align: right;\">\n",
       "      <th></th>\n",
       "      <th>Product</th>\n",
       "      <th>Sales</th>\n",
       "      <th>Discount</th>\n",
       "      <th>discount %</th>\n",
       "    </tr>\n",
       "  </thead>\n",
       "  <tbody>\n",
       "    <tr>\n",
       "      <th>0</th>\n",
       "      <td>Apple</td>\n",
       "      <td>200</td>\n",
       "      <td>10</td>\n",
       "      <td>0.10</td>\n",
       "    </tr>\n",
       "    <tr>\n",
       "      <th>1</th>\n",
       "      <td>Apple</td>\n",
       "      <td>150</td>\n",
       "      <td>15</td>\n",
       "      <td>0.15</td>\n",
       "    </tr>\n",
       "    <tr>\n",
       "      <th>2</th>\n",
       "      <td>Banana</td>\n",
       "      <td>100</td>\n",
       "      <td>5</td>\n",
       "      <td>0.05</td>\n",
       "    </tr>\n",
       "    <tr>\n",
       "      <th>3</th>\n",
       "      <td>Banana</td>\n",
       "      <td>120</td>\n",
       "      <td>10</td>\n",
       "      <td>0.10</td>\n",
       "    </tr>\n",
       "    <tr>\n",
       "      <th>4</th>\n",
       "      <td>Banana</td>\n",
       "      <td>130</td>\n",
       "      <td>5</td>\n",
       "      <td>0.05</td>\n",
       "    </tr>\n",
       "    <tr>\n",
       "      <th>5</th>\n",
       "      <td>Cherry</td>\n",
       "      <td>180</td>\n",
       "      <td>20</td>\n",
       "      <td>0.20</td>\n",
       "    </tr>\n",
       "  </tbody>\n",
       "</table>\n",
       "</div>"
      ],
      "text/plain": [
       "  Product  Sales  Discount  discount %\n",
       "0   Apple    200        10        0.10\n",
       "1   Apple    150        15        0.15\n",
       "2  Banana    100         5        0.05\n",
       "3  Banana    120        10        0.10\n",
       "4  Banana    130         5        0.05\n",
       "5  Cherry    180        20        0.20"
      ]
     },
     "execution_count": 9,
     "metadata": {},
     "output_type": "execute_result"
    }
   ],
   "source": [
    "df['discount %'] = df['Discount'].map(lambda row: row/100)\n",
    "df"
   ]
  },
  {
   "cell_type": "markdown",
   "id": "23e94bc0-7669-4e18-b78c-29a044e87801",
   "metadata": {},
   "source": [
    "here is how that got solved, using pandas map function!\n",
    "\n",
    "---"
   ]
  },
  {
   "cell_type": "markdown",
   "id": "b80de903-89bf-43b3-b0a6-ba136a31db70",
   "metadata": {},
   "source": [
    "#### how are *map* functions and *lambda* functions related?\n",
    "consider you got an array and have a lambda function, the lambda function's parameter is just one single variable and not an array, but you want to map that array to that lambda function; in this situation, *map* function is the solution."
   ]
  },
  {
   "cell_type": "code",
   "execution_count": 11,
   "id": "35ec5c99-9320-46bb-aac5-180f862b0abe",
   "metadata": {},
   "outputs": [
    {
     "data": {
      "text/plain": [
       "[2, 3, 4, 5, 6]"
      ]
     },
     "execution_count": 11,
     "metadata": {},
     "output_type": "execute_result"
    }
   ],
   "source": [
    "numbers = [1, 2, 3, 4, 5]\n",
    "result = map(lambda x: x + 1, numbers)\n",
    "list(result)"
   ]
  },
  {
   "cell_type": "markdown",
   "id": "0bf82728-21f2-4da9-8c68-80e42b577c2e",
   "metadata": {},
   "source": [
    "---\n",
    "\n",
    "#### so, how does *map* and *lambda* functions related to pandas?\n",
    "there will be some times that those functions would work like a magic! checkout the example:"
   ]
  },
  {
   "cell_type": "code",
   "execution_count": 17,
   "id": "32d3fa5f-2193-4c29-9833-068234c4c7a7",
   "metadata": {},
   "outputs": [
    {
     "data": {
      "text/html": [
       "<div>\n",
       "<style scoped>\n",
       "    .dataframe tbody tr th:only-of-type {\n",
       "        vertical-align: middle;\n",
       "    }\n",
       "\n",
       "    .dataframe tbody tr th {\n",
       "        vertical-align: top;\n",
       "    }\n",
       "\n",
       "    .dataframe thead th {\n",
       "        text-align: right;\n",
       "    }\n",
       "</style>\n",
       "<table border=\"1\" class=\"dataframe\">\n",
       "  <thead>\n",
       "    <tr style=\"text-align: right;\">\n",
       "      <th></th>\n",
       "      <th>Fruit</th>\n",
       "      <th>Quantity</th>\n",
       "      <th>Price_per_Unit</th>\n",
       "    </tr>\n",
       "  </thead>\n",
       "  <tbody>\n",
       "    <tr>\n",
       "      <th>0</th>\n",
       "      <td>Apple</td>\n",
       "      <td>10</td>\n",
       "      <td>0.50</td>\n",
       "    </tr>\n",
       "    <tr>\n",
       "      <th>1</th>\n",
       "      <td>Banana</td>\n",
       "      <td>20</td>\n",
       "      <td>0.20</td>\n",
       "    </tr>\n",
       "    <tr>\n",
       "      <th>2</th>\n",
       "      <td>Cherry</td>\n",
       "      <td>15</td>\n",
       "      <td>0.75</td>\n",
       "    </tr>\n",
       "    <tr>\n",
       "      <th>3</th>\n",
       "      <td>Date</td>\n",
       "      <td>7</td>\n",
       "      <td>1.00</td>\n",
       "    </tr>\n",
       "    <tr>\n",
       "      <th>4</th>\n",
       "      <td>Elderberry</td>\n",
       "      <td>12</td>\n",
       "      <td>2.50</td>\n",
       "    </tr>\n",
       "  </tbody>\n",
       "</table>\n",
       "</div>"
      ],
      "text/plain": [
       "        Fruit  Quantity  Price_per_Unit\n",
       "0       Apple        10            0.50\n",
       "1      Banana        20            0.20\n",
       "2      Cherry        15            0.75\n",
       "3        Date         7            1.00\n",
       "4  Elderberry        12            2.50"
      ]
     },
     "execution_count": 17,
     "metadata": {},
     "output_type": "execute_result"
    }
   ],
   "source": [
    "data = {\n",
    "    'Fruit': ['Apple', 'Banana', 'Cherry', 'Date', 'Elderberry'],\n",
    "    'Quantity': [10, 20, 15, 7, 12],\n",
    "    'Price_per_Unit': [0.5, 0.2, 0.75, 1.0, 2.5]\n",
    "}\n",
    "\n",
    "df = pd.DataFrame(data)\n",
    "df"
   ]
  },
  {
   "cell_type": "markdown",
   "id": "2ab5c2c0-c92a-4354-9562-32574695fe3a",
   "metadata": {},
   "source": [
    "#### what is apply() function and how is that relate to pandas map() function? :/\n",
    "ok, now there is a new term to understand: the keyword *apply*: \n",
    "The apply() method allows you to apply a function along one of the axis of the DataFrame, default 0, which is the index (row) axis.\n",
    "here is how the syntax looks like:\n",
    "```python\n",
    "dataframe.apply(func, axis, raw, result_type, args, kwds)\n",
    "```\n",
    "checkout this example:\n",
    "```python\n",
    "def calc_sum(x):\n",
    "return x.sum()\n",
    "\n",
    "data = {\n",
    "  \"x\": [50, 40, 30],\n",
    "  \"y\": [300, 1112, 42]\n",
    "}\n",
    "\n",
    "df = pd.DataFrame(data)\n",
    "\n",
    "x = df.apply(calc_sum)\n",
    "```\n",
    "now, back to our previous example:"
   ]
  },
  {
   "cell_type": "code",
   "execution_count": 18,
   "id": "7de71233-52a4-45eb-be42-3e8c3cb55ca6",
   "metadata": {},
   "outputs": [
    {
     "data": {
      "text/html": [
       "<div>\n",
       "<style scoped>\n",
       "    .dataframe tbody tr th:only-of-type {\n",
       "        vertical-align: middle;\n",
       "    }\n",
       "\n",
       "    .dataframe tbody tr th {\n",
       "        vertical-align: top;\n",
       "    }\n",
       "\n",
       "    .dataframe thead th {\n",
       "        text-align: right;\n",
       "    }\n",
       "</style>\n",
       "<table border=\"1\" class=\"dataframe\">\n",
       "  <thead>\n",
       "    <tr style=\"text-align: right;\">\n",
       "      <th></th>\n",
       "      <th>Fruit</th>\n",
       "      <th>Quantity</th>\n",
       "      <th>Price_per_Unit</th>\n",
       "      <th>Total_Price</th>\n",
       "    </tr>\n",
       "  </thead>\n",
       "  <tbody>\n",
       "    <tr>\n",
       "      <th>0</th>\n",
       "      <td>Apple</td>\n",
       "      <td>10</td>\n",
       "      <td>0.50</td>\n",
       "      <td>5.00</td>\n",
       "    </tr>\n",
       "    <tr>\n",
       "      <th>1</th>\n",
       "      <td>Banana</td>\n",
       "      <td>20</td>\n",
       "      <td>0.20</td>\n",
       "      <td>4.00</td>\n",
       "    </tr>\n",
       "    <tr>\n",
       "      <th>2</th>\n",
       "      <td>Cherry</td>\n",
       "      <td>15</td>\n",
       "      <td>0.75</td>\n",
       "      <td>11.25</td>\n",
       "    </tr>\n",
       "    <tr>\n",
       "      <th>3</th>\n",
       "      <td>Date</td>\n",
       "      <td>7</td>\n",
       "      <td>1.00</td>\n",
       "      <td>7.00</td>\n",
       "    </tr>\n",
       "    <tr>\n",
       "      <th>4</th>\n",
       "      <td>Elderberry</td>\n",
       "      <td>12</td>\n",
       "      <td>2.50</td>\n",
       "      <td>30.00</td>\n",
       "    </tr>\n",
       "  </tbody>\n",
       "</table>\n",
       "</div>"
      ],
      "text/plain": [
       "        Fruit  Quantity  Price_per_Unit  Total_Price\n",
       "0       Apple        10            0.50         5.00\n",
       "1      Banana        20            0.20         4.00\n",
       "2      Cherry        15            0.75        11.25\n",
       "3        Date         7            1.00         7.00\n",
       "4  Elderberry        12            2.50        30.00"
      ]
     },
     "execution_count": 18,
     "metadata": {},
     "output_type": "execute_result"
    }
   ],
   "source": [
    "df['Total_Price'] = df.apply(lambda row: row['Quantity'] * row['Price_per_Unit'], axis=1)\n",
    "df"
   ]
  },
  {
   "cell_type": "code",
   "execution_count": 20,
   "id": "6d4e908f-b4b5-440d-a404-634c9ae09c99",
   "metadata": {},
   "outputs": [
    {
     "data": {
      "text/html": [
       "<div>\n",
       "<style scoped>\n",
       "    .dataframe tbody tr th:only-of-type {\n",
       "        vertical-align: middle;\n",
       "    }\n",
       "\n",
       "    .dataframe tbody tr th {\n",
       "        vertical-align: top;\n",
       "    }\n",
       "\n",
       "    .dataframe thead th {\n",
       "        text-align: right;\n",
       "    }\n",
       "</style>\n",
       "<table border=\"1\" class=\"dataframe\">\n",
       "  <thead>\n",
       "    <tr style=\"text-align: right;\">\n",
       "      <th></th>\n",
       "      <th>Fruit</th>\n",
       "      <th>Quantity</th>\n",
       "      <th>Price_per_Unit</th>\n",
       "      <th>Total_Price</th>\n",
       "      <th>Color</th>\n",
       "    </tr>\n",
       "  </thead>\n",
       "  <tbody>\n",
       "    <tr>\n",
       "      <th>0</th>\n",
       "      <td>Apple</td>\n",
       "      <td>10</td>\n",
       "      <td>0.50</td>\n",
       "      <td>5.00</td>\n",
       "      <td>Red</td>\n",
       "    </tr>\n",
       "    <tr>\n",
       "      <th>1</th>\n",
       "      <td>Banana</td>\n",
       "      <td>20</td>\n",
       "      <td>0.20</td>\n",
       "      <td>4.00</td>\n",
       "      <td>Yellow</td>\n",
       "    </tr>\n",
       "    <tr>\n",
       "      <th>2</th>\n",
       "      <td>Cherry</td>\n",
       "      <td>15</td>\n",
       "      <td>0.75</td>\n",
       "      <td>11.25</td>\n",
       "      <td>Red</td>\n",
       "    </tr>\n",
       "    <tr>\n",
       "      <th>3</th>\n",
       "      <td>Date</td>\n",
       "      <td>7</td>\n",
       "      <td>1.00</td>\n",
       "      <td>7.00</td>\n",
       "      <td>Brown</td>\n",
       "    </tr>\n",
       "    <tr>\n",
       "      <th>4</th>\n",
       "      <td>Elderberry</td>\n",
       "      <td>12</td>\n",
       "      <td>2.50</td>\n",
       "      <td>30.00</td>\n",
       "      <td>Purple</td>\n",
       "    </tr>\n",
       "  </tbody>\n",
       "</table>\n",
       "</div>"
      ],
      "text/plain": [
       "        Fruit  Quantity  Price_per_Unit  Total_Price   Color\n",
       "0       Apple        10            0.50         5.00     Red\n",
       "1      Banana        20            0.20         4.00  Yellow\n",
       "2      Cherry        15            0.75        11.25     Red\n",
       "3        Date         7            1.00         7.00   Brown\n",
       "4  Elderberry        12            2.50        30.00  Purple"
      ]
     },
     "execution_count": 20,
     "metadata": {},
     "output_type": "execute_result"
    }
   ],
   "source": [
    "fruit_colors = {\n",
    "    'Apple': 'Red',\n",
    "    'Banana': 'Yellow',\n",
    "    'Cherry': 'Red',\n",
    "    'Date': 'Brown',\n",
    "    'Elderberry': 'Purple'\n",
    "}\n",
    "df['Color'] = df['Fruit'].map(fruit_colors)\n",
    "df"
   ]
  },
  {
   "cell_type": "code",
   "execution_count": 21,
   "id": "c903752e-9328-4f01-9d65-34a4aa0ac1ce",
   "metadata": {},
   "outputs": [
    {
     "data": {
      "text/plain": [
       "'\\nnp12 -> 22 now\\nnp-32 -> 32 now\\n29 new \\npw310 yamaha -> 27 -> birjand \\ntehran, esfahan\\n'"
      ]
     },
     "execution_count": 21,
     "metadata": {},
     "output_type": "execute_result"
    }
   ],
   "source": [
    "'''\n",
    "np12 -> 22 now\n",
    "np-32 -> 32 now\n",
    "29 new \n",
    "pw310 yamaha -> 27 -> birjand \n",
    "tehran, esfahan\n",
    "'''"
   ]
  },
  {
   "cell_type": "code",
   "execution_count": 23,
   "id": "78df5798-ea8e-41f9-b9d2-b022907879fa",
   "metadata": {},
   "outputs": [
    {
     "data": {
      "text/plain": [
       "Fruit       Quantity  Price_per_Unit  Total_Price  Color \n",
       "Apple       10        0.50            5.00         Red       1\n",
       "Banana      20        0.20            4.00         Yellow    1\n",
       "Cherry      15        0.75            11.25        Red       1\n",
       "Date        7         1.00            7.00         Brown     1\n",
       "Elderberry  12        2.50            30.00        Purple    1\n",
       "Name: count, dtype: int64"
      ]
     },
     "execution_count": 23,
     "metadata": {},
     "output_type": "execute_result"
    }
   ],
   "source": [
    "df.value_counts()"
   ]
  },
  {
   "cell_type": "code",
   "execution_count": 24,
   "id": "ff8ca4b5-4113-4aa9-830d-977c8e7bf7ba",
   "metadata": {},
   "outputs": [
    {
     "name": "stdout",
     "output_type": "stream",
     "text": [
      "sales    2\n",
      "age      0\n",
      "dtype: int64\n"
     ]
    }
   ],
   "source": [
    "data = {\n",
    "  \"sales\": [23, 34, 56],\n",
    "  \"age\": [50, 40, 30]\n",
    "}\n",
    "\n",
    "df = pd.DataFrame(data)\n",
    "\n",
    "print(df.idxmax())"
   ]
  },
  {
   "cell_type": "code",
   "execution_count": null,
   "id": "550ade8b-0664-4a6d-9519-067ce679cdba",
   "metadata": {},
   "outputs": [],
   "source": []
  }
 ],
 "metadata": {
  "kernelspec": {
   "display_name": "Python 3 (ipykernel)",
   "language": "python",
   "name": "python3"
  },
  "language_info": {
   "codemirror_mode": {
    "name": "ipython",
    "version": 3
   },
   "file_extension": ".py",
   "mimetype": "text/x-python",
   "name": "python",
   "nbconvert_exporter": "python",
   "pygments_lexer": "ipython3",
   "version": "3.11.2"
  }
 },
 "nbformat": 4,
 "nbformat_minor": 5
}
