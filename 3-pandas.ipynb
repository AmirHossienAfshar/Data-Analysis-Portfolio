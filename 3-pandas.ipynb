{
 "cells": [
  {
   "cell_type": "markdown",
   "id": "ba07f0b5-0245-4934-a856-255fbb61165b",
   "metadata": {},
   "source": [
    "# Pandas toturial part3\n"
   ]
  },
  {
   "cell_type": "code",
   "execution_count": null,
   "id": "a53edde1-e0c9-48ba-89d2-e69f045812de",
   "metadata": {},
   "outputs": [],
   "source": []
  }
 ],
 "metadata": {
  "kernelspec": {
   "display_name": "Python 3 (ipykernel)",
   "language": "python",
   "name": "python3"
  },
  "language_info": {
   "codemirror_mode": {
    "name": "ipython",
    "version": 3
   },
   "file_extension": ".py",
   "mimetype": "text/x-python",
   "name": "python",
   "nbconvert_exporter": "python",
   "pygments_lexer": "ipython3",
   "version": "3.11.2"
  }
 },
 "nbformat": 4,
 "nbformat_minor": 5
}
